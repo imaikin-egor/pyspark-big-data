{
  "cells": [
    {
      "cell_type": "code",
      "source": [
        "#from google.colab import drive\n",
        "#drive.mount('/content/drive')"
      ],
      "metadata": {
        "colab": {
          "base_uri": "https://localhost:8080/"
        },
        "id": "nTLFRP6hiLAW",
        "outputId": "8ad9792a-f004-4578-8d3b-dc32a892645d"
      },
      "execution_count": 1,
      "outputs": [
        {
          "output_type": "stream",
          "name": "stdout",
          "text": [
            "Drive already mounted at /content/drive; to attempt to forcibly remount, call drive.mount(\"/content/drive\", force_remount=True).\n"
          ]
        }
      ]
    },
    {
      "cell_type": "markdown",
      "metadata": {
        "id": "G5RzzDBuL7jZ"
      },
      "source": [
        "# install stuff"
      ]
    },
    {
      "cell_type": "code",
      "execution_count": 2,
      "metadata": {
        "colab": {
          "base_uri": "https://localhost:8080/"
        },
        "id": "-_8IKHNSL7jf",
        "outputId": "7126ac90-ff3e-478f-eabf-707441bc79aa"
      },
      "outputs": [
        {
          "output_type": "stream",
          "name": "stdout",
          "text": [
            "Requirement already satisfied: pyspark in /usr/local/lib/python3.10/dist-packages (3.5.1)\n",
            "Requirement already satisfied: pandas in /usr/local/lib/python3.10/dist-packages (2.0.3)\n",
            "Requirement already satisfied: scikit-learn in /usr/local/lib/python3.10/dist-packages (1.2.2)\n",
            "Requirement already satisfied: py4j==0.10.9.7 in /usr/local/lib/python3.10/dist-packages (from pyspark) (0.10.9.7)\n",
            "Requirement already satisfied: python-dateutil>=2.8.2 in /usr/local/lib/python3.10/dist-packages (from pandas) (2.8.2)\n",
            "Requirement already satisfied: pytz>=2020.1 in /usr/local/lib/python3.10/dist-packages (from pandas) (2023.4)\n",
            "Requirement already satisfied: tzdata>=2022.1 in /usr/local/lib/python3.10/dist-packages (from pandas) (2024.1)\n",
            "Requirement already satisfied: numpy>=1.21.0 in /usr/local/lib/python3.10/dist-packages (from pandas) (1.25.2)\n",
            "Requirement already satisfied: scipy>=1.3.2 in /usr/local/lib/python3.10/dist-packages (from scikit-learn) (1.11.4)\n",
            "Requirement already satisfied: joblib>=1.1.1 in /usr/local/lib/python3.10/dist-packages (from scikit-learn) (1.4.2)\n",
            "Requirement already satisfied: threadpoolctl>=2.0.0 in /usr/local/lib/python3.10/dist-packages (from scikit-learn) (3.5.0)\n",
            "Requirement already satisfied: six>=1.5 in /usr/local/lib/python3.10/dist-packages (from python-dateutil>=2.8.2->pandas) (1.16.0)\n"
          ]
        }
      ],
      "source": [
        "! pip3 install pyspark pandas scikit-learn"
      ]
    },
    {
      "cell_type": "markdown",
      "metadata": {
        "id": "wmlNG-BhL7jh"
      },
      "source": [
        "# setup pyspark"
      ]
    },
    {
      "cell_type": "code",
      "execution_count": 3,
      "metadata": {
        "id": "ZkFuAGFcL7jh"
      },
      "outputs": [],
      "source": [
        "import pyspark.sql\n",
        "import pyspark\n",
        "from pyspark.sql import SparkSession, functions as sf, Window\n",
        "from pyspark.ml.feature import Tokenizer, StopWordsRemover, HashingTF, IDF, Word2Vec\n",
        "from pyspark.mllib.linalg import Vectors\n",
        "from pyspark.sql.types import DoubleType"
      ]
    },
    {
      "cell_type": "code",
      "execution_count": 4,
      "metadata": {
        "id": "ASC7CT2gL7ji"
      },
      "outputs": [],
      "source": [
        "sparkConf = pyspark.SparkConf() \\\n",
        "    .set(\"spark.executor.memory\", \"512m\")\\\n",
        "    .set(\"spark.driver.memory\", \"512m\")\n",
        "ss = pyspark.sql.SparkSession.builder.config(conf=sparkConf).master('local[1]').getOrCreate()"
      ]
    },
    {
      "cell_type": "markdown",
      "metadata": {
        "id": "TEzYQtjkL7jk"
      },
      "source": [
        "# load data"
      ]
    },
    {
      "cell_type": "code",
      "execution_count": 5,
      "metadata": {
        "id": "d1lmbmoxL7jk"
      },
      "outputs": [],
      "source": [
        "#train_data = ss.read.orc('/content/drive/MyDrive/hw_data/posts_train.orc')\n",
        "#test_data = ss.read.orc('/content/drive/MyDrive/hw_data/posts_test.orc')\n",
        "#channel_data = ss.read.orc('/content/drive/MyDrive/hw_data/channels_orc')"
      ]
    },
    {
      "cell_type": "code",
      "source": [
        "train_data = ss.read.orc('./hw_data/posts_train.orc')\n",
        "test_data = ss.read.orc('./hw_data/posts_test.orc')\n",
        "channel_data = ss.read.orc('./hw_data/channels_orc')"
      ],
      "metadata": {
        "id": "8ZqA--d1fFcv"
      },
      "execution_count": 6,
      "outputs": []
    },
    {
      "cell_type": "code",
      "source": [
        "train_data"
      ],
      "metadata": {
        "colab": {
          "base_uri": "https://localhost:8080/"
        },
        "id": "CRmXy0mRj_-o",
        "outputId": "c2f76495-bd89-4d86-c5a3-3f71b744d0b1"
      },
      "execution_count": 7,
      "outputs": [
        {
          "output_type": "execute_result",
          "data": {
            "text/plain": [
              "DataFrame[channel_id: int, id: int, tg_id: int, text: string, views: int, has_image: string, is_forwarded: string, date: string, forwarded_id: string]"
            ]
          },
          "metadata": {},
          "execution_count": 7
        }
      ]
    },
    {
      "cell_type": "code",
      "source": [
        "test_data"
      ],
      "metadata": {
        "colab": {
          "base_uri": "https://localhost:8080/"
        },
        "id": "zPHIJ8POkFuG",
        "outputId": "d8899908-184c-4e7c-aca4-aba45855c399"
      },
      "execution_count": 8,
      "outputs": [
        {
          "output_type": "execute_result",
          "data": {
            "text/plain": [
              "DataFrame[channel_id: int, id: int, tg_id: int, text: string, has_image: string, is_forwarded: string, date: string, forwarded_id: string]"
            ]
          },
          "metadata": {},
          "execution_count": 8
        }
      ]
    },
    {
      "cell_type": "code",
      "source": [
        "channel_data"
      ],
      "metadata": {
        "colab": {
          "base_uri": "https://localhost:8080/"
        },
        "id": "qTRUcdIKkHJk",
        "outputId": "ca41290b-16a5-4af2-f235-1fb39f6461aa"
      },
      "execution_count": 9,
      "outputs": [
        {
          "output_type": "execute_result",
          "data": {
            "text/plain": [
              "DataFrame[description: string, is_private: boolean, last_parsed: timestamp, name: string, post_count: double, tg_id: bigint, title: string, updated: timestamp, user_count: double, channel_id: bigint]"
            ]
          },
          "metadata": {},
          "execution_count": 9
        }
      ]
    },
    {
      "cell_type": "code",
      "source": [
        "channel_data.select('title').show(15)"
      ],
      "metadata": {
        "colab": {
          "base_uri": "https://localhost:8080/"
        },
        "id": "lZytL8N0QJkT",
        "outputId": "df6bcfb2-4ff4-406c-93fa-986963e8847d"
      },
      "execution_count": 10,
      "outputs": [
        {
          "output_type": "stream",
          "name": "stdout",
          "text": [
            "+--------------------+\n",
            "|               title|\n",
            "+--------------------+\n",
            "|             Moein Z|\n",
            "|            Мерзость|\n",
            "|Christian Mezmur ...|\n",
            "|    Ideal qomat siri|\n",
            "|Parivartan by Abh...|\n",
            "|             Банкста|\n",
            "|    WarisanSalaf.Com|\n",
            "|                РИАN|\n",
            "|                 ОНФ|\n",
            "|Lawak Netizen Kini🍁|\n",
            "|         Grantlar.uz|\n",
            "|           Offerzone|\n",
            "| ▶CiNEMAWORLD HEVC ◀|\n",
            "|              Шапито|\n",
            "|Ustozlar va Pedag...|\n",
            "+--------------------+\n",
            "only showing top 15 rows\n",
            "\n"
          ]
        }
      ]
    },
    {
      "cell_type": "markdown",
      "source": [
        "заджойним метаданные"
      ],
      "metadata": {
        "id": "rD4FPSIDliiI"
      }
    },
    {
      "cell_type": "code",
      "source": [
        "train_data = train_data.join(channel_data, on='channel_id', how='left')\n",
        "test_data = test_data.join(channel_data, on='channel_id', how='left')"
      ],
      "metadata": {
        "id": "Tp0u2XzXlbed"
      },
      "execution_count": 11,
      "outputs": []
    },
    {
      "cell_type": "markdown",
      "source": [
        "# посмотрим чего у нас там есть\n"
      ],
      "metadata": {
        "id": "8-oJ3h6DcWlA"
      }
    },
    {
      "cell_type": "code",
      "source": [
        "display(train_data.show(5))\n",
        "display(test_data.show(5))\n",
        "display(channel_data.show(5))"
      ],
      "metadata": {
        "colab": {
          "base_uri": "https://localhost:8080/",
          "height": 698
        },
        "id": "-Y0qosisciyW",
        "outputId": "d8d03e2f-e2ec-46c3-d25e-86f81720cc39"
      },
      "execution_count": 12,
      "outputs": [
        {
          "output_type": "stream",
          "name": "stdout",
          "text": [
            "+----------+--------+-----+--------------------+-----+---------+------------+--------------------+------------+--------------------+----------+--------------------+------------+----------+----------+------------+--------------------+----------+\n",
            "|channel_id|      id|tg_id|                text|views|has_image|is_forwarded|                date|forwarded_id|         description|is_private|         last_parsed|        name|post_count|     tg_id|       title|             updated|user_count|\n",
            "+----------+--------+-----+--------------------+-----+---------+------------+--------------------+------------+--------------------+----------+--------------------+------------+----------+----------+------------+--------------------+----------+\n",
            "|       221|29741094| 7182|МК, а это вот про...|15368|        f|           f|2018-11-03 13:05:...|        NULL|Политика, сплетни...|     false|2018-12-07 00:04:...|ekvinokurova|    1015.0|1030852584|Ekvinokurova|2018-12-07 00:04:...|    8732.0|\n",
            "|       221|46751120| 7388|Хочу пошутить, чт...|12448|        f|           f|2018-11-26 16:15:...|        NULL|Политика, сплетни...|     false|2018-12-07 00:04:...|ekvinokurova|    1015.0|1030852584|Ekvinokurova|2018-12-07 00:04:...|    8732.0|\n",
            "|       221|32631368| 5512|Уточню: Котляр бы...|69984|        f|           f|2018-05-16 16:03:...|        NULL|Политика, сплетни...|     false|2018-12-07 00:04:...|ekvinokurova|    1015.0|1030852584|Ekvinokurova|2018-12-07 00:04:...|    8732.0|\n",
            "|       221|46751758| 7173|Да не на два лаге...|10241|        f|           f|2018-11-02 13:45:...|        NULL|Политика, сплетни...|     false|2018-12-07 00:04:...|ekvinokurova|    1015.0|1030852584|Ekvinokurova|2018-12-07 00:04:...|    8732.0|\n",
            "|       221|33073441| 3185|А что касается Уд...|46847|        f|           f|2017-08-10 13:44:...|        NULL|Политика, сплетни...|     false|2018-12-07 00:04:...|ekvinokurova|    1015.0|1030852584|Ekvinokurova|2018-12-07 00:04:...|    8732.0|\n",
            "+----------+--------+-----+--------------------+-----+---------+------------+--------------------+------------+--------------------+----------+--------------------+------------+----------+----------+------------+--------------------+----------+\n",
            "only showing top 5 rows\n",
            "\n"
          ]
        },
        {
          "output_type": "display_data",
          "data": {
            "text/plain": [
              "None"
            ]
          },
          "metadata": {}
        },
        {
          "output_type": "stream",
          "name": "stdout",
          "text": [
            "+----------+--------+-----+--------------------+---------+------------+--------------------+------------+--------------------+----------+--------------------+--------------+----------+----------+--------------+--------------------+----------+\n",
            "|channel_id|      id|tg_id|                text|has_image|is_forwarded|                date|forwarded_id|         description|is_private|         last_parsed|          name|post_count|     tg_id|         title|             updated|user_count|\n",
            "+----------+--------+-----+--------------------+---------+------------+--------------------+------------+--------------------+----------+--------------------+--------------+----------+----------+--------------+--------------------+----------+\n",
            "|      4127|53225416| 2137|История про песик...|        f|           f|2019-01-14 15:42:...|        NULL|antihipstaswag@gm...|     false|2018-12-08 16:19:...|antihipstaswag|    1974.0|1063226247|ANTIHIPSTASWAG|2018-12-08 16:19:...|    5399.0|\n",
            "|      4127|53225442| 2135|Наверное, вы заме...|        f|           f|2019-01-10 11:35:...|        NULL|antihipstaswag@gm...|     false|2018-12-08 16:19:...|antihipstaswag|    1974.0|1063226247|ANTIHIPSTASWAG|2018-12-08 16:19:...|    5399.0|\n",
            "|     34317|53042118|11612|ર્ષમાં ફેલાઈ છે જ...|        f|           f|2019-01-05 13:40:...|        NULL|👉આ ગ્રુપ માત્ર ગ...|     false|2019-01-31 10:03:...|    gyansarthi|    8856.0|1086577325|   જ્ઞાન સારથિ|2019-01-31 10:03:...|   55456.0|\n",
            "|     34317|53042119|39544|ર્ષમાં ફેલાઈ છે જ...|        f|           t|2019-01-05 13:40:...|    53042118|👉આ ગ્રુપ માત્ર ગ...|     false|2019-01-31 10:03:...|    gyansarthi|    8856.0|1086577325|   જ્ઞાન સારથિ|2019-01-31 10:03:...|   55456.0|\n",
            "|     34317|53042120|11611|*🎯Pls don't copy...|        f|           f|2019-01-05 13:40:...|        NULL|👉આ ગ્રુપ માત્ર ગ...|     false|2019-01-31 10:03:...|    gyansarthi|    8856.0|1086577325|   જ્ઞાન સારથિ|2019-01-31 10:03:...|   55456.0|\n",
            "+----------+--------+-----+--------------------+---------+------------+--------------------+------------+--------------------+----------+--------------------+--------------+----------+----------+--------------+--------------------+----------+\n",
            "only showing top 5 rows\n",
            "\n"
          ]
        },
        {
          "output_type": "display_data",
          "data": {
            "text/plain": [
              "None"
            ]
          },
          "metadata": {}
        },
        {
          "output_type": "stream",
          "name": "stdout",
          "text": [
            "+--------------------+----------+--------------------+----------------+----------+----------+--------------------+--------------------+----------+----------+\n",
            "|         description|is_private|         last_parsed|            name|post_count|     tg_id|               title|             updated|user_count|channel_id|\n",
            "+--------------------+----------+--------------------+----------------+----------+----------+--------------------+--------------------+----------+----------+\n",
            "|                    |     false|2019-01-26 16:53:...|   MoeinZchannel|     708.0|1002972402|             Moein Z|2019-01-26 16:53:...|   62411.0|      7910|\n",
            "|Вокруг столько ме...|     false|2019-02-12 00:39:...|  merzotachannel|    1027.0|1336284461|            Мерзость|2019-02-12 00:39:...|   12982.0|     14121|\n",
            "|🗣እኛስ የተሰቀለውን ክርስ...|     false|2019-02-10 06:57:...|christian_mezmur|    1168.0|1136987361|Christian Mezmur ...|2019-02-10 06:57:...|   21704.0|     17375|\n",
            "|     Chiroyli_qomatt|     false|2018-12-08 00:54:...|chiroyli_ayollar|     775.0|1363004116|    Ideal qomat siri|2018-12-08 00:54:...|    6516.0|     49797|\n",
            "|                    |     false|2019-02-10 14:31:...|   abhijitrathod|    1468.0|1090317766|Parivartan by Abh...|2019-02-10 14:31:...|   18995.0|     33685|\n",
            "+--------------------+----------+--------------------+----------------+----------+----------+--------------------+--------------------+----------+----------+\n",
            "only showing top 5 rows\n",
            "\n"
          ]
        },
        {
          "output_type": "display_data",
          "data": {
            "text/plain": [
              "None"
            ]
          },
          "metadata": {}
        }
      ]
    },
    {
      "cell_type": "code",
      "source": [
        "columns_to_analyze = ['has_image', 'is_forwarded']\n",
        "\n",
        "for column in columns_to_analyze:\n",
        "    num_train_rows_with_t = train_data.select(sf.col(column)).filter(sf.col(column)=='t').count()\n",
        "\n",
        "    num_test_rows_with_t = test_data.select(sf.col(column)).filter(sf.col(column)=='t').count()\n",
        "\n",
        "    train_percentage = round(num_train_rows_with_t / train_data.count() * 100, 2)\n",
        "    test_percentage = round(num_test_rows_with_t / test_data.count() * 100, 2)\n",
        "\n",
        "    print(f'train: {column} {num_train_rows_with_t} ({train_percentage}%)')\n",
        "    print(f'test: {column} {num_test_rows_with_t} ({test_percentage}%)')\n"
      ],
      "metadata": {
        "colab": {
          "base_uri": "https://localhost:8080/"
        },
        "id": "beXgDrsjcl0m",
        "outputId": "43edfd35-96fc-453a-a646-72227660686f"
      },
      "execution_count": 20,
      "outputs": [
        {
          "output_type": "stream",
          "name": "stdout",
          "text": [
            "train: has_image 2043958 (37.43%)\n",
            "test: has_image 98825 (40.44%)\n",
            "train: is_forwarded 595694 (10.91%)\n",
            "test: is_forwarded 33286 (13.62%)\n"
          ]
        }
      ]
    },
    {
      "cell_type": "code",
      "source": [
        "channel_summary = channel_data.select('channel_id', 'updated')\n",
        "channel_summary = channel_summary.groupby('channel_id')\n",
        "channel_summary = channel_summary.agg(\n",
        "    sf.count('*').alias('num_occurrences'),\n",
        "    sf.max('updated').alias('last_updated'),\n",
        "    sf.min('updated').alias('first_updated')\n",
        ")\n",
        "channel_summary = channel_summary.orderBy('num_occurrences', ascending=False)\n",
        "channel_summary.show(10, 0)\n"
      ],
      "metadata": {
        "colab": {
          "base_uri": "https://localhost:8080/"
        },
        "id": "cHex7Ao4cz8k",
        "outputId": "28adb351-4909-4aa6-8859-a49a10a3efe5"
      },
      "execution_count": 21,
      "outputs": [
        {
          "output_type": "stream",
          "name": "stdout",
          "text": [
            "+----------+---------------+-----------------------+-----------------------+\n",
            "|channel_id|num_occurrences|last_updated           |first_updated          |\n",
            "+----------+---------------+-----------------------+-----------------------+\n",
            "|45166     |1              |2019-02-13 06:23:33.062|2019-02-13 06:23:33.062|\n",
            "|56242     |1              |2019-01-26 22:01:37.681|2019-01-26 22:01:37.681|\n",
            "|4894      |1              |2018-12-07 07:15:24.675|2018-12-07 07:15:24.675|\n",
            "|4823      |1              |2019-02-12 02:29:14.729|2019-02-12 02:29:14.729|\n",
            "|11938     |1              |2018-12-11 07:35:03.549|2018-12-11 07:35:03.549|\n",
            "|15194     |1              |2019-02-12 16:06:03.971|2019-02-12 16:06:03.971|\n",
            "|15057     |1              |2018-12-09 10:05:50.788|2018-12-09 10:05:50.788|\n",
            "|62989     |1              |2019-02-10 23:56:27.604|2019-02-10 23:56:27.604|\n",
            "|42969     |1              |2018-12-08 16:17:51.693|2018-12-08 16:17:51.693|\n",
            "|541       |1              |2019-02-10 01:00:38.254|2019-02-10 01:00:38.254|\n",
            "+----------+---------------+-----------------------+-----------------------+\n",
            "only showing top 10 rows\n",
            "\n"
          ]
        }
      ]
    },
    {
      "cell_type": "markdown",
      "source": [
        "В channel_data лежит только по одной строчке для каждого из каналов, прикольные фичи с количеством юзеров во времени и их просмотрами не посчитать :("
      ],
      "metadata": {
        "id": "odR0DWclc0hM"
      }
    },
    {
      "cell_type": "code",
      "source": [
        "display('Уникальные каналы в train:', train_data.select('channel_id').distinct().count())\n",
        "display('Уникальные каналы в test:', test_data.select('channel_id').distinct().count())"
      ],
      "metadata": {
        "colab": {
          "base_uri": "https://localhost:8080/",
          "height": 92
        },
        "id": "dN83SPelc34e",
        "outputId": "18176c6c-1bb7-4796-fa6a-00da2115a395"
      },
      "execution_count": 15,
      "outputs": [
        {
          "output_type": "display_data",
          "data": {
            "text/plain": [
              "'Уникальные каналы в train:'"
            ],
            "application/vnd.google.colaboratory.intrinsic+json": {
              "type": "string"
            }
          },
          "metadata": {}
        },
        {
          "output_type": "display_data",
          "data": {
            "text/plain": [
              "2000"
            ]
          },
          "metadata": {}
        },
        {
          "output_type": "display_data",
          "data": {
            "text/plain": [
              "'Уникальные каналы в test:'"
            ],
            "application/vnd.google.colaboratory.intrinsic+json": {
              "type": "string"
            }
          },
          "metadata": {}
        },
        {
          "output_type": "display_data",
          "data": {
            "text/plain": [
              "1197"
            ]
          },
          "metadata": {}
        }
      ]
    },
    {
      "cell_type": "markdown",
      "source": [
        "Кажется, что можем заджойнить количество просмотров предудщих постов в тест и что-нибудь посчитать. Проверим, можно ли так\n"
      ],
      "metadata": {
        "id": "W29HuE5ac_UC"
      }
    },
    {
      "cell_type": "code",
      "source": [
        "(train_data.groupby('channel_id')\n",
        "            .agg(sf.max(sf.col('date')).alias('last_train'))\n",
        "            .join(test_data\n",
        "                        .groupby('channel_id')\n",
        "                        .agg(sf.min(sf.col('date')).alias('first_test')),\n",
        "                  on='channel_id', how='inner')\n",
        "            .withColumn('days_between_train_test',\n",
        "                        sf.datediff(sf.col('first_test'),\n",
        "                                   sf.col('last_train')))\n",
        "            .orderBy('days_between_train_test')\n",
        ").show(10, 0)"
      ],
      "metadata": {
        "colab": {
          "base_uri": "https://localhost:8080/"
        },
        "id": "0xjueWZrc_5q",
        "outputId": "01f6a778-27c5-43a6-87d9-87fbb2dbdc8f"
      },
      "execution_count": 16,
      "outputs": [
        {
          "output_type": "stream",
          "name": "stdout",
          "text": [
            "+----------+----------------------+----------------------+-----------------------+\n",
            "|channel_id|last_train            |first_test            |days_between_train_test|\n",
            "+----------+----------------------+----------------------+-----------------------+\n",
            "|114       |2018-12-31 13:19:10+00|2019-01-01 14:34:35+00|1                      |\n",
            "|184       |2018-12-31 23:33:36+00|2019-01-01 10:16:08+00|1                      |\n",
            "|164       |2018-12-31 21:09:50+00|2019-01-01 07:03:55+00|1                      |\n",
            "|25        |2018-12-31 22:13:23+00|2019-01-01 05:55:59+00|1                      |\n",
            "|166       |2018-12-31 22:51:51+00|2019-01-01 11:26:54+00|1                      |\n",
            "|47        |2018-12-31 22:07:45+00|2019-01-01 10:22:56+00|1                      |\n",
            "|167       |2018-12-31 17:53:43+00|2019-01-01 13:04:16+00|1                      |\n",
            "|187       |2018-12-31 17:36:56+00|2019-01-01 07:12:14+00|1                      |\n",
            "|168       |2018-12-31 16:40:51+00|2019-01-01 08:39:50+00|1                      |\n",
            "|42        |2018-12-31 22:25:45+00|2019-01-01 07:30:05+00|1                      |\n",
            "+----------+----------------------+----------------------+-----------------------+\n",
            "only showing top 10 rows\n",
            "\n"
          ]
        }
      ]
    },
    {
      "cell_type": "code",
      "source": [
        "(train_data.groupby('channel_id')\n",
        "            .agg(sf.max(sf.col('date')).alias('last_train'))\n",
        "            .join(test_data\n",
        "                        .groupby('channel_id')\n",
        "                        .agg(sf.min(sf.col('date')).alias('first_test')),\n",
        "                  on='channel_id', how='inner')\n",
        "            .withColumn('days_between_train_test',\n",
        "                        sf.datediff(sf.col('first_test'),\n",
        "                                   sf.col('last_train')))\n",
        "            .orderBy('days_between_train_test')\n",
        ").count()"
      ],
      "metadata": {
        "colab": {
          "base_uri": "https://localhost:8080/"
        },
        "id": "nlw42n0_3Rj1",
        "outputId": "9e0c272e-483e-4f14-9fe7-8910c20e6b44"
      },
      "execution_count": 17,
      "outputs": [
        {
          "output_type": "execute_result",
          "data": {
            "text/plain": [
              "1197"
            ]
          },
          "metadata": {},
          "execution_count": 17
        }
      ]
    },
    {
      "cell_type": "markdown",
      "source": [
        "Действительно можем. Дальше реализуем фичу со средним по трейн датасету в тесте"
      ],
      "metadata": {
        "id": "PL27cPZDdJIT"
      }
    },
    {
      "cell_type": "markdown",
      "metadata": {
        "id": "ViGwF14SL7jl"
      },
      "source": [
        "# make features"
      ]
    },
    {
      "cell_type": "code",
      "source": [
        "from pyspark.sql.functions import length, size, trim, lower, expr, avg, row_number, array, when, split, col, to_json, udf, explode, hour, max, count, to_timestamp, countDistinct\n",
        "\n",
        "def make_features(df, is_train = True, train_data=None):\n",
        "  cols = ['id', 'has_image', 'is_forwarded', 'is_private', 'post_count', 'user_count',\n",
        "          'previous_views_mean', 'original_post_ratio', 'hours_diff', 'media_post_ratio',\n",
        "          'active_last_3_days', 'text_length', 'word_count', 'language', 'has_emoji', 'has_less_than_30_words']\n",
        "  if 'views' in df.columns:\n",
        "    cols.append('views')\n",
        "##Метаданные\n",
        "    # Доля постов с медиа (картинки приятнее-интереснее смотреть, хочется чаще заходить)\n",
        "  df = df.withColumn('media_post_ratio', sf.mean(sf.when(sf.col('has_image') == True, 1.0).otherwise(0.0)).over(Window.partitionBy(\"channel_id\")))\n",
        "\n",
        "    # Доля собственных постов (гипотеза - у каналов, которые много репостят (мало уникального контента) - просмотров меньше)\n",
        "  df = df.withColumn(\"is_forwarded_numeric\", sf.when(df.is_forwarded == True, 0.0).otherwise(1.0))\n",
        "  df = df.withColumn('original_post_ratio', sf.avg(\"is_forwarded_numeric\").over(Window.partitionBy(\"channel_id\")))\n",
        "\n",
        "##Текстовые фичи\n",
        "  #определим язык по описанию(тут еще и метаданные)))\n",
        "  #логика-тг распространен больше в россии и снг - каналы и посты на русском будут иметь больше просмотров\n",
        "  df = df.withColumn(\"language\", sf.when(sf.regexp_extract(col(\"description\"), r'\\b[а-яА-Я]+\\b', 0) != \"\", 1).otherwise(0))\n",
        "\n",
        "  #Проверим наличие эмодзи и спецсимволов (привлекают больше внимания)))\n",
        "  df = df.withColumn(\"has_emoji\", sf.when(sf.regexp_extract(col(\"text\"), r\"[\\u2700-\\u27BF]|\\u2B50|\\u2B55|\\u203C|\\u2049|[\\u2500-\\u25FF]|\\u2600-\\u26FF|[\\u2190-\\u21FF]\", 0) != \"\", 1).otherwise(0))\n",
        "\n",
        "  # Подсчет слов и символов\n",
        "  df = df.withColumn('text_length', length(trim(lower(col('text')))))\n",
        "  df = df.withColumn('word_count', size(split(trim(lower(col('text'))), ' ')))\n",
        "  #Проверим, что количество слов меньше 30 (гипотеза, что к постам к коротким текстам чаще возвращаются,\n",
        "  # они популярнее - по аналогии с твиттером каким-нибудь)\n",
        "  df = df.withColumn(\"has_less_than_30_words\", sf.when(col(\"word_count\") < 30, 1).otherwise(0))\n",
        "\n",
        "##Виндоу функции\n",
        "    # Флажок активности за последние 3 дня (обозначим какие-нибудь мертвые каналы, которые давно/совсем не часто постят)\n",
        "  last_3_days_window = Window.partitionBy(\"channel_id\").orderBy(col(\"date\").cast(\"long\")).rangeBetween(-3*24*3600, -1)\n",
        "  df = df.withColumn(\n",
        "       'active_last_3_days',\n",
        "       (sf.size(sf.collect_set(\"date\").over(last_3_days_window)) > 0).cast(\"integer\")\n",
        "  )\n",
        "\n",
        "#количество часов разницы между постами\n",
        "  wd = Window.partitionBy(\"channel_id\").orderBy(\"date\")\n",
        "  df = df.withColumn('previous_date',sf.lag('date', 1).over(wd)\n",
        "          ).withColumn(\n",
        "          'hours_diff', sf.datediff(sf.col('date'), sf.col('previous_date'))*24 +\n",
        "          sf.hour(sf.col('date')) - sf.hour(sf.col('previous_date'))\n",
        "          ).fillna(0, subset='hours_diff')\n",
        "\n",
        "\n",
        "#cоздадим фичу в трейне по среднему количеству просмотров постов\n",
        "  if is_train:\n",
        "    w1 = Window.partitionBy(\"channel_id\").orderBy(\"date\")\n",
        "    df = df.withColumn(\n",
        "        'previous_views_mean',\n",
        "        sf.mean('views').over(w1.rowsBetween(Window.unboundedPreceding, -1))\n",
        "    )\n",
        "\n",
        "#и передадим значения в тестовый датасет\n",
        "  else:\n",
        "    w1 = Window.partitionBy(\"channel_id\").orderBy(sf.desc(\"date\"))\n",
        "    df_prev_views = train_data.withColumn(\n",
        "        \"rn\",\n",
        "        sf.row_number().over(w1)\n",
        "    ).filter(\"rn = 1\").select(\n",
        "        \"channel_id\",\n",
        "        sf.col(\"views\").alias('previous_views_mean')\n",
        "    )\n",
        "    df = df.hint('merge').join(df_prev_views, on='channel_id', how='left')\n",
        "\n",
        "  df = df.select(*cols)\n",
        "  return df\n"
      ],
      "metadata": {
        "id": "kQ1_A61l5rMx"
      },
      "execution_count": 24,
      "outputs": []
    },
    {
      "cell_type": "code",
      "source": [
        "train_features = make_features(train_data).cache()\n",
        "test_features = make_features(test_data, is_train=False, train_data=train_data).cache()"
      ],
      "metadata": {
        "id": "n05NMwo_NAT1"
      },
      "execution_count": 25,
      "outputs": []
    },
    {
      "cell_type": "code",
      "source": [
        "#test_features.show()"
      ],
      "metadata": {
        "colab": {
          "base_uri": "https://localhost:8080/"
        },
        "id": "EicYJwhQAYy3",
        "outputId": "253b0338-b843-4dc8-8c7e-e9aa58255259"
      },
      "execution_count": 26,
      "outputs": [
        {
          "output_type": "stream",
          "name": "stdout",
          "text": [
            "+--------+---------+------------+----------+----------+----------+-------------------+-------------------+----------+------------------+------------------+-----------+----------+--------+---------+----------------------+\n",
            "|      id|has_image|is_forwarded|is_private|post_count|user_count|previous_views_mean|original_post_ratio|hours_diff|  media_post_ratio|active_last_3_days|text_length|word_count|language|has_emoji|has_less_than_30_words|\n",
            "+--------+---------+------------+----------+----------+----------+-------------------+-------------------+----------+------------------+------------------+-----------+----------+--------+---------+----------------------+\n",
            "|57193448|        f|           f|     false|     791.0|    4868.0|               3026|                1.0|         0|               0.0|                 1|       NULL|        -1|       1|        0|                     1|\n",
            "|57193446|        f|           f|     false|     791.0|    4868.0|               3026|                1.0|         0|               0.0|                 1|       NULL|        -1|       1|        0|                     1|\n",
            "|57193444|        f|           f|     false|     791.0|    4868.0|               3026|                1.0|         0|               0.0|                 1|       NULL|        -1|       1|        0|                     1|\n",
            "|57317154|        f|           f|     false|     791.0|    4868.0|               3026|                1.0|       550|               0.0|                 1|       NULL|        -1|       1|        0|                     1|\n",
            "|56541329|        t|           f|     false|    1921.0|    4471.0|                212|                1.0|         0|               1.0|                 1|         39|         8|       0|        1|                     1|\n",
            "|56359078|        f|           f|     false|     522.0|   13911.0|              15307|                1.0|         0|               0.0|                 1|        137|        15|       0|        0|                     1|\n",
            "|56359077|        f|           f|     false|     522.0|   13911.0|              15307|                1.0|        51|               0.0|                 1|        916|        66|       0|        0|                     0|\n",
            "|56359076|        f|           f|     false|     522.0|   13911.0|              15307|                1.0|        38|               0.0|                 1|        447|        60|       0|        1|                     0|\n",
            "|56359075|        f|           f|     false|     522.0|   13911.0|              15307|                1.0|         9|               0.0|                 1|        138|        16|       0|        0|                     1|\n",
            "|56359074|        f|           f|     false|     522.0|   13911.0|              15307|                1.0|        89|               0.0|                 1|        137|        15|       0|        0|                     1|\n",
            "|56359073|        f|           f|     false|     522.0|   13911.0|              15307|                1.0|         4|               0.0|                 1|        325|        55|       0|        1|                     0|\n",
            "|56359072|        f|           f|     false|     522.0|   13911.0|              15307|                1.0|        29|               0.0|                 1|        123|        12|       0|        0|                     1|\n",
            "|56359071|        f|           f|     false|     522.0|   13911.0|              15307|                1.0|        15|               0.0|                 1|        253|        31|       0|        0|                     0|\n",
            "|56359070|        f|           f|     false|     522.0|   13911.0|              15307|                1.0|        95|               0.0|                 1|        153|        18|       0|        0|                     1|\n",
            "|56359069|        f|           f|     false|     522.0|   13911.0|              15307|                1.0|       462|               0.0|                 1|       4093|       453|       0|        0|                     0|\n",
            "|56641838|        f|           f|     false|    6911.0|    4805.0|                758|                1.0|         0|0.3333333333333333|                 1|        101|        16|       0|        0|                     1|\n",
            "|53365416|        t|           f|     false|    6911.0|    4805.0|                758|                1.0|       276|0.3333333333333333|                 1|         85|         1|       0|        0|                     1|\n",
            "|57022138|        f|           f|     false|    6911.0|    4805.0|                758|                1.0|       288|0.3333333333333333|                 1|        638|        80|       0|        0|                     0|\n",
            "|56824994|        t|           f|     false|    3048.0|   10522.0|                932| 0.9821428571428571|         0|0.5892857142857143|                 1|        183|        25|       0|        0|                     1|\n",
            "|56824993|        t|           f|     false|    3048.0|   10522.0|                932| 0.9821428571428571|         6|0.5892857142857143|                 1|       NULL|        -1|       0|        0|                     1|\n",
            "+--------+---------+------------+----------+----------+----------+-------------------+-------------------+----------+------------------+------------------+-----------+----------+--------+---------+----------------------+\n",
            "only showing top 20 rows\n",
            "\n"
          ]
        }
      ]
    },
    {
      "cell_type": "code",
      "source": [
        "#train_features.show()"
      ],
      "metadata": {
        "colab": {
          "base_uri": "https://localhost:8080/"
        },
        "id": "cILJNbqaE0oS",
        "outputId": "c8856a06-82b7-448a-e22c-010ce3506389"
      },
      "execution_count": 27,
      "outputs": [
        {
          "output_type": "stream",
          "name": "stdout",
          "text": [
            "+--------+---------+------------+----------+----------+----------+-------------------+-------------------+----------+------------------+------------------+-----------+----------+--------+---------+----------------------+-----+\n",
            "|      id|has_image|is_forwarded|is_private|post_count|user_count|previous_views_mean|original_post_ratio|hours_diff|  media_post_ratio|active_last_3_days|text_length|word_count|language|has_emoji|has_less_than_30_words|views|\n",
            "+--------+---------+------------+----------+----------+----------+-------------------+-------------------+----------+------------------+------------------+-----------+----------+--------+---------+----------------------+-----+\n",
            "|39957267|        t|           f|     false|     791.0|    4868.0|               NULL| 0.9823008849557522|         0|0.2503160556257901|                 1|       NULL|        -1|       1|        0|                     1| 1217|\n",
            "|39957266|        t|           f|     false|     791.0|    4868.0|             1217.0| 0.9823008849557522|        24|0.2503160556257901|                 1|       NULL|        -1|       1|        0|                     1| 1143|\n",
            "|39957265|        t|           f|     false|     791.0|    4868.0|             1180.0| 0.9823008849557522|        12|0.2503160556257901|                 1|       NULL|        -1|       1|        0|                     1| 1127|\n",
            "|39957264|        t|           f|     false|     791.0|    4868.0| 1162.3333333333333| 0.9823008849557522|        16|0.2503160556257901|                 1|       NULL|        -1|       1|        0|                     1| 1135|\n",
            "|39957263|        f|           f|     false|     791.0|    4868.0|             1155.5| 0.9823008849557522|         8|0.2503160556257901|                 1|       NULL|        -1|       1|        0|                     1| 1286|\n",
            "|39957262|        t|           f|     false|     791.0|    4868.0|             1181.6| 0.9823008849557522|        24|0.2503160556257901|                 1|       NULL|        -1|       1|        0|                     1| 1264|\n",
            "|39957261|        t|           f|     false|     791.0|    4868.0| 1195.3333333333333| 0.9823008849557522|        42|0.2503160556257901|                 1|       NULL|        -1|       1|        0|                     1| 1230|\n",
            "|39957260|        f|           f|     false|     791.0|    4868.0| 1200.2857142857142| 0.9823008849557522|         7|0.2503160556257901|                 1|       NULL|        -1|       1|        0|                     1| 1521|\n",
            "|39957259|        t|           f|     false|     791.0|    4868.0|           1240.375| 0.9823008849557522|        24|0.2503160556257901|                 1|       NULL|        -1|       1|        0|                     1| 1271|\n",
            "|39957258|        t|           f|     false|     791.0|    4868.0| 1243.7777777777778| 0.9823008849557522|        16|0.2503160556257901|                 1|       NULL|        -1|       1|        0|                     1| 1375|\n",
            "|39957257|        f|           f|     false|     791.0|    4868.0|             1256.9| 0.9823008849557522|        45|0.2503160556257901|                 1|       NULL|        -1|       1|        0|                     1| 1415|\n",
            "|39957256|        t|           f|     false|     791.0|    4868.0| 1271.2727272727273| 0.9823008849557522|        11|0.2503160556257901|                 1|       NULL|        -1|       1|        0|                     1| 1415|\n",
            "|39957255|        f|           f|     false|     791.0|    4868.0|            1283.25| 0.9823008849557522|         7|0.2503160556257901|                 1|       NULL|        -1|       1|        0|                     1| 1566|\n",
            "|39957254|        t|           f|     false|     791.0|    4868.0|             1305.0| 0.9823008849557522|        29|0.2503160556257901|                 1|       NULL|        -1|       1|        0|                     1| 1453|\n",
            "|39957253|        t|           f|     false|     791.0|    4868.0| 1315.5714285714287| 0.9823008849557522|        22|0.2503160556257901|                 1|       NULL|        -1|       1|        0|                     1| 1529|\n",
            "|39957252|        t|           t|     false|     791.0|    4868.0|             1329.8| 0.9823008849557522|         5|0.2503160556257901|                 1|          6|         1|       1|        0|                     1| 1924|\n",
            "|39957250|        f|           f|     false|     791.0|    4868.0|          1366.9375| 0.9823008849557522|        24|0.2503160556257901|                 1|       NULL|        -1|       1|        0|                     1| 1743|\n",
            "|39957249|        t|           f|     false|     791.0|    4868.0| 1389.0588235294117| 0.9823008849557522|         3|0.2503160556257901|                 1|       NULL|        -1|       1|        0|                     1| 1658|\n",
            "|39957248|        t|           f|     false|     791.0|    4868.0|             1404.0| 0.9823008849557522|         0|0.2503160556257901|                 1|       NULL|        -1|       1|        0|                     1| 2105|\n",
            "|39957247|        t|           f|     false|     791.0|    4868.0| 1440.8947368421052| 0.9823008849557522|        28|0.2503160556257901|                 1|       NULL|        -1|       1|        0|                     1| 1722|\n",
            "+--------+---------+------------+----------+----------+----------+-------------------+-------------------+----------+------------------+------------------+-----------+----------+--------+---------+----------------------+-----+\n",
            "only showing top 20 rows\n",
            "\n"
          ]
        }
      ]
    },
    {
      "cell_type": "code",
      "source": [
        "train_features.write.csv('train_csv', mode='overwrite', header=True)\n",
        "test_features.write.csv('test_csv', mode='overwrite', header=True)"
      ],
      "metadata": {
        "id": "kl_QAtZmKCkE"
      },
      "execution_count": 28,
      "outputs": []
    },
    {
      "cell_type": "markdown",
      "metadata": {
        "id": "WM_OdlG-L7jp"
      },
      "source": [
        "# load features to pandas\n",
        "you also can use .toPandas()"
      ]
    },
    {
      "cell_type": "code",
      "execution_count": 29,
      "metadata": {
        "id": "6nKAqTQ6L7jq"
      },
      "outputs": [],
      "source": [
        "import subprocess\n",
        "import glob\n",
        "import os\n",
        "import shutil\n",
        "import pandas as pd\n",
        "\n",
        "def load_and_merge_csv(path, **kwargs):\n",
        "    dfs = []\n",
        "    for g in glob.glob(os.path.join(path, '*.csv')):\n",
        "        dfs.append(pd.read_csv(g, **kwargs))\n",
        "    res = pd.concat(dfs)\n",
        "    res = res.set_index('id')\n",
        "    return res"
      ]
    },
    {
      "cell_type": "code",
      "execution_count": 30,
      "metadata": {
        "id": "AOnZbhxBL7jq"
      },
      "outputs": [],
      "source": [
        "trainXY = load_and_merge_csv('train_csv')\n",
        "testX = load_and_merge_csv('test_csv')"
      ]
    },
    {
      "cell_type": "code",
      "source": [
        "trainXY"
      ],
      "metadata": {
        "colab": {
          "base_uri": "https://localhost:8080/",
          "height": 475
        },
        "id": "NXhR31WHLLvM",
        "outputId": "c291ca2c-25c5-433b-8399-221631c76b1a"
      },
      "execution_count": 31,
      "outputs": [
        {
          "output_type": "execute_result",
          "data": {
            "text/plain": [
              "         has_image is_forwarded  is_private  post_count  user_count  \\\n",
              "id                                                                    \n",
              "6851167          f            f       False       733.0     20622.0   \n",
              "6851166          f            f       False       733.0     20622.0   \n",
              "6851165          f            f       False       733.0     20622.0   \n",
              "6851164          f            f       False       733.0     20622.0   \n",
              "6851163          f            f       False       733.0     20622.0   \n",
              "...            ...          ...         ...         ...         ...   \n",
              "47528347         f            f       False      1847.0      8536.0   \n",
              "47528341         f            f       False      1847.0      8536.0   \n",
              "47528338         t            f       False      1847.0      8536.0   \n",
              "47528339         t            f       False      1847.0      8536.0   \n",
              "47528340         f            f       False      1847.0      8536.0   \n",
              "\n",
              "          previous_views_mean  original_post_ratio  hours_diff  \\\n",
              "id                                                               \n",
              "6851167                   NaN             0.988355           0   \n",
              "6851166           5472.000000             0.988355           5   \n",
              "6851165           5025.000000             0.988355          20   \n",
              "6851164           5077.333333             0.988355           7   \n",
              "6851163           4716.250000             0.988355          12   \n",
              "...                       ...                  ...         ...   \n",
              "47528347          3268.013072             0.987507           0   \n",
              "47528341          3267.658683             0.987507           3   \n",
              "47528338          3268.502176             0.987507          53   \n",
              "47528339          3268.429581             0.987507           0   \n",
              "47528340          3268.488587             0.987507           0   \n",
              "\n",
              "          media_post_ratio  active_last_3_days  text_length  word_count  \\\n",
              "id                                                                        \n",
              "6851167           0.020378                   1       1792.0         247   \n",
              "6851166           0.020378                   1       1119.0         157   \n",
              "6851165           0.020378                   1       2442.0         364   \n",
              "6851164           0.020378                   1       1540.0         215   \n",
              "6851163           0.020378                   1       2251.0         319   \n",
              "...                    ...                 ...          ...         ...   \n",
              "47528347          0.313960                   1          NaN          -1   \n",
              "47528341          0.313960                   1        271.0          43   \n",
              "47528338          0.313960                   1          NaN          -1   \n",
              "47528339          0.313960                   1          NaN          -1   \n",
              "47528340          0.313960                   1        187.0          32   \n",
              "\n",
              "          language  has_emoji  has_less_than_30_words  views  \n",
              "id                                                            \n",
              "6851167          1          0                       0   5472  \n",
              "6851166          1          0                       0   4578  \n",
              "6851165          1          0                       0   5182  \n",
              "6851164          1          0                       0   3633  \n",
              "6851163          1          0                       0   3700  \n",
              "...            ...        ...                     ...    ...  \n",
              "47528347         0          0                       1   2617  \n",
              "47528341         0          0                       0   4818  \n",
              "47528338         0          0                       1   3135  \n",
              "47528339         0          0                       1   3377  \n",
              "47528340         0          0                       0   2773  \n",
              "\n",
              "[5460759 rows x 16 columns]"
            ],
            "text/html": [
              "\n",
              "  <div id=\"df-4213c698-9787-46d6-ba9f-190cf8e19c7a\" class=\"colab-df-container\">\n",
              "    <div>\n",
              "<style scoped>\n",
              "    .dataframe tbody tr th:only-of-type {\n",
              "        vertical-align: middle;\n",
              "    }\n",
              "\n",
              "    .dataframe tbody tr th {\n",
              "        vertical-align: top;\n",
              "    }\n",
              "\n",
              "    .dataframe thead th {\n",
              "        text-align: right;\n",
              "    }\n",
              "</style>\n",
              "<table border=\"1\" class=\"dataframe\">\n",
              "  <thead>\n",
              "    <tr style=\"text-align: right;\">\n",
              "      <th></th>\n",
              "      <th>has_image</th>\n",
              "      <th>is_forwarded</th>\n",
              "      <th>is_private</th>\n",
              "      <th>post_count</th>\n",
              "      <th>user_count</th>\n",
              "      <th>previous_views_mean</th>\n",
              "      <th>original_post_ratio</th>\n",
              "      <th>hours_diff</th>\n",
              "      <th>media_post_ratio</th>\n",
              "      <th>active_last_3_days</th>\n",
              "      <th>text_length</th>\n",
              "      <th>word_count</th>\n",
              "      <th>language</th>\n",
              "      <th>has_emoji</th>\n",
              "      <th>has_less_than_30_words</th>\n",
              "      <th>views</th>\n",
              "    </tr>\n",
              "    <tr>\n",
              "      <th>id</th>\n",
              "      <th></th>\n",
              "      <th></th>\n",
              "      <th></th>\n",
              "      <th></th>\n",
              "      <th></th>\n",
              "      <th></th>\n",
              "      <th></th>\n",
              "      <th></th>\n",
              "      <th></th>\n",
              "      <th></th>\n",
              "      <th></th>\n",
              "      <th></th>\n",
              "      <th></th>\n",
              "      <th></th>\n",
              "      <th></th>\n",
              "      <th></th>\n",
              "    </tr>\n",
              "  </thead>\n",
              "  <tbody>\n",
              "    <tr>\n",
              "      <th>6851167</th>\n",
              "      <td>f</td>\n",
              "      <td>f</td>\n",
              "      <td>False</td>\n",
              "      <td>733.0</td>\n",
              "      <td>20622.0</td>\n",
              "      <td>NaN</td>\n",
              "      <td>0.988355</td>\n",
              "      <td>0</td>\n",
              "      <td>0.020378</td>\n",
              "      <td>1</td>\n",
              "      <td>1792.0</td>\n",
              "      <td>247</td>\n",
              "      <td>1</td>\n",
              "      <td>0</td>\n",
              "      <td>0</td>\n",
              "      <td>5472</td>\n",
              "    </tr>\n",
              "    <tr>\n",
              "      <th>6851166</th>\n",
              "      <td>f</td>\n",
              "      <td>f</td>\n",
              "      <td>False</td>\n",
              "      <td>733.0</td>\n",
              "      <td>20622.0</td>\n",
              "      <td>5472.000000</td>\n",
              "      <td>0.988355</td>\n",
              "      <td>5</td>\n",
              "      <td>0.020378</td>\n",
              "      <td>1</td>\n",
              "      <td>1119.0</td>\n",
              "      <td>157</td>\n",
              "      <td>1</td>\n",
              "      <td>0</td>\n",
              "      <td>0</td>\n",
              "      <td>4578</td>\n",
              "    </tr>\n",
              "    <tr>\n",
              "      <th>6851165</th>\n",
              "      <td>f</td>\n",
              "      <td>f</td>\n",
              "      <td>False</td>\n",
              "      <td>733.0</td>\n",
              "      <td>20622.0</td>\n",
              "      <td>5025.000000</td>\n",
              "      <td>0.988355</td>\n",
              "      <td>20</td>\n",
              "      <td>0.020378</td>\n",
              "      <td>1</td>\n",
              "      <td>2442.0</td>\n",
              "      <td>364</td>\n",
              "      <td>1</td>\n",
              "      <td>0</td>\n",
              "      <td>0</td>\n",
              "      <td>5182</td>\n",
              "    </tr>\n",
              "    <tr>\n",
              "      <th>6851164</th>\n",
              "      <td>f</td>\n",
              "      <td>f</td>\n",
              "      <td>False</td>\n",
              "      <td>733.0</td>\n",
              "      <td>20622.0</td>\n",
              "      <td>5077.333333</td>\n",
              "      <td>0.988355</td>\n",
              "      <td>7</td>\n",
              "      <td>0.020378</td>\n",
              "      <td>1</td>\n",
              "      <td>1540.0</td>\n",
              "      <td>215</td>\n",
              "      <td>1</td>\n",
              "      <td>0</td>\n",
              "      <td>0</td>\n",
              "      <td>3633</td>\n",
              "    </tr>\n",
              "    <tr>\n",
              "      <th>6851163</th>\n",
              "      <td>f</td>\n",
              "      <td>f</td>\n",
              "      <td>False</td>\n",
              "      <td>733.0</td>\n",
              "      <td>20622.0</td>\n",
              "      <td>4716.250000</td>\n",
              "      <td>0.988355</td>\n",
              "      <td>12</td>\n",
              "      <td>0.020378</td>\n",
              "      <td>1</td>\n",
              "      <td>2251.0</td>\n",
              "      <td>319</td>\n",
              "      <td>1</td>\n",
              "      <td>0</td>\n",
              "      <td>0</td>\n",
              "      <td>3700</td>\n",
              "    </tr>\n",
              "    <tr>\n",
              "      <th>...</th>\n",
              "      <td>...</td>\n",
              "      <td>...</td>\n",
              "      <td>...</td>\n",
              "      <td>...</td>\n",
              "      <td>...</td>\n",
              "      <td>...</td>\n",
              "      <td>...</td>\n",
              "      <td>...</td>\n",
              "      <td>...</td>\n",
              "      <td>...</td>\n",
              "      <td>...</td>\n",
              "      <td>...</td>\n",
              "      <td>...</td>\n",
              "      <td>...</td>\n",
              "      <td>...</td>\n",
              "      <td>...</td>\n",
              "    </tr>\n",
              "    <tr>\n",
              "      <th>47528347</th>\n",
              "      <td>f</td>\n",
              "      <td>f</td>\n",
              "      <td>False</td>\n",
              "      <td>1847.0</td>\n",
              "      <td>8536.0</td>\n",
              "      <td>3268.013072</td>\n",
              "      <td>0.987507</td>\n",
              "      <td>0</td>\n",
              "      <td>0.313960</td>\n",
              "      <td>1</td>\n",
              "      <td>NaN</td>\n",
              "      <td>-1</td>\n",
              "      <td>0</td>\n",
              "      <td>0</td>\n",
              "      <td>1</td>\n",
              "      <td>2617</td>\n",
              "    </tr>\n",
              "    <tr>\n",
              "      <th>47528341</th>\n",
              "      <td>f</td>\n",
              "      <td>f</td>\n",
              "      <td>False</td>\n",
              "      <td>1847.0</td>\n",
              "      <td>8536.0</td>\n",
              "      <td>3267.658683</td>\n",
              "      <td>0.987507</td>\n",
              "      <td>3</td>\n",
              "      <td>0.313960</td>\n",
              "      <td>1</td>\n",
              "      <td>271.0</td>\n",
              "      <td>43</td>\n",
              "      <td>0</td>\n",
              "      <td>0</td>\n",
              "      <td>0</td>\n",
              "      <td>4818</td>\n",
              "    </tr>\n",
              "    <tr>\n",
              "      <th>47528338</th>\n",
              "      <td>t</td>\n",
              "      <td>f</td>\n",
              "      <td>False</td>\n",
              "      <td>1847.0</td>\n",
              "      <td>8536.0</td>\n",
              "      <td>3268.502176</td>\n",
              "      <td>0.987507</td>\n",
              "      <td>53</td>\n",
              "      <td>0.313960</td>\n",
              "      <td>1</td>\n",
              "      <td>NaN</td>\n",
              "      <td>-1</td>\n",
              "      <td>0</td>\n",
              "      <td>0</td>\n",
              "      <td>1</td>\n",
              "      <td>3135</td>\n",
              "    </tr>\n",
              "    <tr>\n",
              "      <th>47528339</th>\n",
              "      <td>t</td>\n",
              "      <td>f</td>\n",
              "      <td>False</td>\n",
              "      <td>1847.0</td>\n",
              "      <td>8536.0</td>\n",
              "      <td>3268.429581</td>\n",
              "      <td>0.987507</td>\n",
              "      <td>0</td>\n",
              "      <td>0.313960</td>\n",
              "      <td>1</td>\n",
              "      <td>NaN</td>\n",
              "      <td>-1</td>\n",
              "      <td>0</td>\n",
              "      <td>0</td>\n",
              "      <td>1</td>\n",
              "      <td>3377</td>\n",
              "    </tr>\n",
              "    <tr>\n",
              "      <th>47528340</th>\n",
              "      <td>f</td>\n",
              "      <td>f</td>\n",
              "      <td>False</td>\n",
              "      <td>1847.0</td>\n",
              "      <td>8536.0</td>\n",
              "      <td>3268.488587</td>\n",
              "      <td>0.987507</td>\n",
              "      <td>0</td>\n",
              "      <td>0.313960</td>\n",
              "      <td>1</td>\n",
              "      <td>187.0</td>\n",
              "      <td>32</td>\n",
              "      <td>0</td>\n",
              "      <td>0</td>\n",
              "      <td>0</td>\n",
              "      <td>2773</td>\n",
              "    </tr>\n",
              "  </tbody>\n",
              "</table>\n",
              "<p>5460759 rows × 16 columns</p>\n",
              "</div>\n",
              "    <div class=\"colab-df-buttons\">\n",
              "\n",
              "  <div class=\"colab-df-container\">\n",
              "    <button class=\"colab-df-convert\" onclick=\"convertToInteractive('df-4213c698-9787-46d6-ba9f-190cf8e19c7a')\"\n",
              "            title=\"Convert this dataframe to an interactive table.\"\n",
              "            style=\"display:none;\">\n",
              "\n",
              "  <svg xmlns=\"http://www.w3.org/2000/svg\" height=\"24px\" viewBox=\"0 -960 960 960\">\n",
              "    <path d=\"M120-120v-720h720v720H120Zm60-500h600v-160H180v160Zm220 220h160v-160H400v160Zm0 220h160v-160H400v160ZM180-400h160v-160H180v160Zm440 0h160v-160H620v160ZM180-180h160v-160H180v160Zm440 0h160v-160H620v160Z\"/>\n",
              "  </svg>\n",
              "    </button>\n",
              "\n",
              "  <style>\n",
              "    .colab-df-container {\n",
              "      display:flex;\n",
              "      gap: 12px;\n",
              "    }\n",
              "\n",
              "    .colab-df-convert {\n",
              "      background-color: #E8F0FE;\n",
              "      border: none;\n",
              "      border-radius: 50%;\n",
              "      cursor: pointer;\n",
              "      display: none;\n",
              "      fill: #1967D2;\n",
              "      height: 32px;\n",
              "      padding: 0 0 0 0;\n",
              "      width: 32px;\n",
              "    }\n",
              "\n",
              "    .colab-df-convert:hover {\n",
              "      background-color: #E2EBFA;\n",
              "      box-shadow: 0px 1px 2px rgba(60, 64, 67, 0.3), 0px 1px 3px 1px rgba(60, 64, 67, 0.15);\n",
              "      fill: #174EA6;\n",
              "    }\n",
              "\n",
              "    .colab-df-buttons div {\n",
              "      margin-bottom: 4px;\n",
              "    }\n",
              "\n",
              "    [theme=dark] .colab-df-convert {\n",
              "      background-color: #3B4455;\n",
              "      fill: #D2E3FC;\n",
              "    }\n",
              "\n",
              "    [theme=dark] .colab-df-convert:hover {\n",
              "      background-color: #434B5C;\n",
              "      box-shadow: 0px 1px 3px 1px rgba(0, 0, 0, 0.15);\n",
              "      filter: drop-shadow(0px 1px 2px rgba(0, 0, 0, 0.3));\n",
              "      fill: #FFFFFF;\n",
              "    }\n",
              "  </style>\n",
              "\n",
              "    <script>\n",
              "      const buttonEl =\n",
              "        document.querySelector('#df-4213c698-9787-46d6-ba9f-190cf8e19c7a button.colab-df-convert');\n",
              "      buttonEl.style.display =\n",
              "        google.colab.kernel.accessAllowed ? 'block' : 'none';\n",
              "\n",
              "      async function convertToInteractive(key) {\n",
              "        const element = document.querySelector('#df-4213c698-9787-46d6-ba9f-190cf8e19c7a');\n",
              "        const dataTable =\n",
              "          await google.colab.kernel.invokeFunction('convertToInteractive',\n",
              "                                                    [key], {});\n",
              "        if (!dataTable) return;\n",
              "\n",
              "        const docLinkHtml = 'Like what you see? Visit the ' +\n",
              "          '<a target=\"_blank\" href=https://colab.research.google.com/notebooks/data_table.ipynb>data table notebook</a>'\n",
              "          + ' to learn more about interactive tables.';\n",
              "        element.innerHTML = '';\n",
              "        dataTable['output_type'] = 'display_data';\n",
              "        await google.colab.output.renderOutput(dataTable, element);\n",
              "        const docLink = document.createElement('div');\n",
              "        docLink.innerHTML = docLinkHtml;\n",
              "        element.appendChild(docLink);\n",
              "      }\n",
              "    </script>\n",
              "  </div>\n",
              "\n",
              "\n",
              "<div id=\"df-062a8be9-1a0e-436d-97a7-d7db594b754f\">\n",
              "  <button class=\"colab-df-quickchart\" onclick=\"quickchart('df-062a8be9-1a0e-436d-97a7-d7db594b754f')\"\n",
              "            title=\"Suggest charts\"\n",
              "            style=\"display:none;\">\n",
              "\n",
              "<svg xmlns=\"http://www.w3.org/2000/svg\" height=\"24px\"viewBox=\"0 0 24 24\"\n",
              "     width=\"24px\">\n",
              "    <g>\n",
              "        <path d=\"M19 3H5c-1.1 0-2 .9-2 2v14c0 1.1.9 2 2 2h14c1.1 0 2-.9 2-2V5c0-1.1-.9-2-2-2zM9 17H7v-7h2v7zm4 0h-2V7h2v10zm4 0h-2v-4h2v4z\"/>\n",
              "    </g>\n",
              "</svg>\n",
              "  </button>\n",
              "\n",
              "<style>\n",
              "  .colab-df-quickchart {\n",
              "      --bg-color: #E8F0FE;\n",
              "      --fill-color: #1967D2;\n",
              "      --hover-bg-color: #E2EBFA;\n",
              "      --hover-fill-color: #174EA6;\n",
              "      --disabled-fill-color: #AAA;\n",
              "      --disabled-bg-color: #DDD;\n",
              "  }\n",
              "\n",
              "  [theme=dark] .colab-df-quickchart {\n",
              "      --bg-color: #3B4455;\n",
              "      --fill-color: #D2E3FC;\n",
              "      --hover-bg-color: #434B5C;\n",
              "      --hover-fill-color: #FFFFFF;\n",
              "      --disabled-bg-color: #3B4455;\n",
              "      --disabled-fill-color: #666;\n",
              "  }\n",
              "\n",
              "  .colab-df-quickchart {\n",
              "    background-color: var(--bg-color);\n",
              "    border: none;\n",
              "    border-radius: 50%;\n",
              "    cursor: pointer;\n",
              "    display: none;\n",
              "    fill: var(--fill-color);\n",
              "    height: 32px;\n",
              "    padding: 0;\n",
              "    width: 32px;\n",
              "  }\n",
              "\n",
              "  .colab-df-quickchart:hover {\n",
              "    background-color: var(--hover-bg-color);\n",
              "    box-shadow: 0 1px 2px rgba(60, 64, 67, 0.3), 0 1px 3px 1px rgba(60, 64, 67, 0.15);\n",
              "    fill: var(--button-hover-fill-color);\n",
              "  }\n",
              "\n",
              "  .colab-df-quickchart-complete:disabled,\n",
              "  .colab-df-quickchart-complete:disabled:hover {\n",
              "    background-color: var(--disabled-bg-color);\n",
              "    fill: var(--disabled-fill-color);\n",
              "    box-shadow: none;\n",
              "  }\n",
              "\n",
              "  .colab-df-spinner {\n",
              "    border: 2px solid var(--fill-color);\n",
              "    border-color: transparent;\n",
              "    border-bottom-color: var(--fill-color);\n",
              "    animation:\n",
              "      spin 1s steps(1) infinite;\n",
              "  }\n",
              "\n",
              "  @keyframes spin {\n",
              "    0% {\n",
              "      border-color: transparent;\n",
              "      border-bottom-color: var(--fill-color);\n",
              "      border-left-color: var(--fill-color);\n",
              "    }\n",
              "    20% {\n",
              "      border-color: transparent;\n",
              "      border-left-color: var(--fill-color);\n",
              "      border-top-color: var(--fill-color);\n",
              "    }\n",
              "    30% {\n",
              "      border-color: transparent;\n",
              "      border-left-color: var(--fill-color);\n",
              "      border-top-color: var(--fill-color);\n",
              "      border-right-color: var(--fill-color);\n",
              "    }\n",
              "    40% {\n",
              "      border-color: transparent;\n",
              "      border-right-color: var(--fill-color);\n",
              "      border-top-color: var(--fill-color);\n",
              "    }\n",
              "    60% {\n",
              "      border-color: transparent;\n",
              "      border-right-color: var(--fill-color);\n",
              "    }\n",
              "    80% {\n",
              "      border-color: transparent;\n",
              "      border-right-color: var(--fill-color);\n",
              "      border-bottom-color: var(--fill-color);\n",
              "    }\n",
              "    90% {\n",
              "      border-color: transparent;\n",
              "      border-bottom-color: var(--fill-color);\n",
              "    }\n",
              "  }\n",
              "</style>\n",
              "\n",
              "  <script>\n",
              "    async function quickchart(key) {\n",
              "      const quickchartButtonEl =\n",
              "        document.querySelector('#' + key + ' button');\n",
              "      quickchartButtonEl.disabled = true;  // To prevent multiple clicks.\n",
              "      quickchartButtonEl.classList.add('colab-df-spinner');\n",
              "      try {\n",
              "        const charts = await google.colab.kernel.invokeFunction(\n",
              "            'suggestCharts', [key], {});\n",
              "      } catch (error) {\n",
              "        console.error('Error during call to suggestCharts:', error);\n",
              "      }\n",
              "      quickchartButtonEl.classList.remove('colab-df-spinner');\n",
              "      quickchartButtonEl.classList.add('colab-df-quickchart-complete');\n",
              "    }\n",
              "    (() => {\n",
              "      let quickchartButtonEl =\n",
              "        document.querySelector('#df-062a8be9-1a0e-436d-97a7-d7db594b754f button');\n",
              "      quickchartButtonEl.style.display =\n",
              "        google.colab.kernel.accessAllowed ? 'block' : 'none';\n",
              "    })();\n",
              "  </script>\n",
              "</div>\n",
              "    </div>\n",
              "  </div>\n"
            ],
            "application/vnd.google.colaboratory.intrinsic+json": {
              "type": "dataframe",
              "variable_name": "trainXY"
            }
          },
          "metadata": {},
          "execution_count": 31
        }
      ]
    },
    {
      "cell_type": "code",
      "source": [
        "testX"
      ],
      "metadata": {
        "colab": {
          "base_uri": "https://localhost:8080/",
          "height": 475
        },
        "id": "3gmyO7-_LTyk",
        "outputId": "d9cd5dc8-fd7c-4869-f541-f06efac7d1b7"
      },
      "execution_count": 32,
      "outputs": [
        {
          "output_type": "execute_result",
          "data": {
            "text/plain": [
              "         has_image is_forwarded  is_private  post_count  user_count  \\\n",
              "id                                                                    \n",
              "53061668         f            f       False      2161.0     43444.0   \n",
              "53061667         f            f       False      2161.0     43444.0   \n",
              "53061666         f            f       False      2161.0     43444.0   \n",
              "53061665         f            f       False      2161.0     43444.0   \n",
              "53061663         t            f       False      2161.0     43444.0   \n",
              "...            ...          ...         ...         ...         ...   \n",
              "57031265         f            f       False       573.0      9642.0   \n",
              "57031264         f            f       False       573.0      9642.0   \n",
              "57031263         f            f       False       573.0      9642.0   \n",
              "57031262         t            f       False       573.0      9642.0   \n",
              "57031261         f            f       False       573.0      9642.0   \n",
              "\n",
              "          previous_views_mean  original_post_ratio  hours_diff  \\\n",
              "id                                                               \n",
              "53061668                11573             0.994178           0   \n",
              "53061667                11573             0.994178           4   \n",
              "53061666                11573             0.994178           1   \n",
              "53061665                11573             0.994178           0   \n",
              "53061663                11573             0.994178           1   \n",
              "...                       ...                  ...         ...   \n",
              "57031265                11910             1.000000          25   \n",
              "57031264                11910             1.000000         405   \n",
              "57031263                11910             1.000000          20   \n",
              "57031262                11910             1.000000           0   \n",
              "57031261                11910             1.000000           1   \n",
              "\n",
              "          media_post_ratio  active_last_3_days  text_length  word_count  \\\n",
              "id                                                                        \n",
              "53061668          0.253275                   1        270.0          30   \n",
              "53061667          0.253275                   1        125.0          14   \n",
              "53061666          0.253275                   1        172.0          25   \n",
              "53061665          0.253275                   1        176.0          21   \n",
              "53061663          0.253275                   1          NaN          -1   \n",
              "...                    ...                 ...          ...         ...   \n",
              "57031265          0.111111                   1       1578.0         317   \n",
              "57031264          0.111111                   1        140.0          18   \n",
              "57031263          0.111111                   1       1167.0         218   \n",
              "57031262          0.111111                   1         28.0           1   \n",
              "57031261          0.111111                   1        196.0          24   \n",
              "\n",
              "          language  has_emoji  has_less_than_30_words  \n",
              "id                                                     \n",
              "53061668         1          0                       0  \n",
              "53061667         1          0                       1  \n",
              "53061666         1          0                       1  \n",
              "53061665         1          0                       1  \n",
              "53061663         1          0                       1  \n",
              "...            ...        ...                     ...  \n",
              "57031265         0          0                       0  \n",
              "57031264         0          0                       1  \n",
              "57031263         0          0                       0  \n",
              "57031262         0          0                       1  \n",
              "57031261         0          0                       1  \n",
              "\n",
              "[244386 rows x 15 columns]"
            ],
            "text/html": [
              "\n",
              "  <div id=\"df-e161ed79-8cf2-420b-af21-22c6a9e77c00\" class=\"colab-df-container\">\n",
              "    <div>\n",
              "<style scoped>\n",
              "    .dataframe tbody tr th:only-of-type {\n",
              "        vertical-align: middle;\n",
              "    }\n",
              "\n",
              "    .dataframe tbody tr th {\n",
              "        vertical-align: top;\n",
              "    }\n",
              "\n",
              "    .dataframe thead th {\n",
              "        text-align: right;\n",
              "    }\n",
              "</style>\n",
              "<table border=\"1\" class=\"dataframe\">\n",
              "  <thead>\n",
              "    <tr style=\"text-align: right;\">\n",
              "      <th></th>\n",
              "      <th>has_image</th>\n",
              "      <th>is_forwarded</th>\n",
              "      <th>is_private</th>\n",
              "      <th>post_count</th>\n",
              "      <th>user_count</th>\n",
              "      <th>previous_views_mean</th>\n",
              "      <th>original_post_ratio</th>\n",
              "      <th>hours_diff</th>\n",
              "      <th>media_post_ratio</th>\n",
              "      <th>active_last_3_days</th>\n",
              "      <th>text_length</th>\n",
              "      <th>word_count</th>\n",
              "      <th>language</th>\n",
              "      <th>has_emoji</th>\n",
              "      <th>has_less_than_30_words</th>\n",
              "    </tr>\n",
              "    <tr>\n",
              "      <th>id</th>\n",
              "      <th></th>\n",
              "      <th></th>\n",
              "      <th></th>\n",
              "      <th></th>\n",
              "      <th></th>\n",
              "      <th></th>\n",
              "      <th></th>\n",
              "      <th></th>\n",
              "      <th></th>\n",
              "      <th></th>\n",
              "      <th></th>\n",
              "      <th></th>\n",
              "      <th></th>\n",
              "      <th></th>\n",
              "      <th></th>\n",
              "    </tr>\n",
              "  </thead>\n",
              "  <tbody>\n",
              "    <tr>\n",
              "      <th>53061668</th>\n",
              "      <td>f</td>\n",
              "      <td>f</td>\n",
              "      <td>False</td>\n",
              "      <td>2161.0</td>\n",
              "      <td>43444.0</td>\n",
              "      <td>11573</td>\n",
              "      <td>0.994178</td>\n",
              "      <td>0</td>\n",
              "      <td>0.253275</td>\n",
              "      <td>1</td>\n",
              "      <td>270.0</td>\n",
              "      <td>30</td>\n",
              "      <td>1</td>\n",
              "      <td>0</td>\n",
              "      <td>0</td>\n",
              "    </tr>\n",
              "    <tr>\n",
              "      <th>53061667</th>\n",
              "      <td>f</td>\n",
              "      <td>f</td>\n",
              "      <td>False</td>\n",
              "      <td>2161.0</td>\n",
              "      <td>43444.0</td>\n",
              "      <td>11573</td>\n",
              "      <td>0.994178</td>\n",
              "      <td>4</td>\n",
              "      <td>0.253275</td>\n",
              "      <td>1</td>\n",
              "      <td>125.0</td>\n",
              "      <td>14</td>\n",
              "      <td>1</td>\n",
              "      <td>0</td>\n",
              "      <td>1</td>\n",
              "    </tr>\n",
              "    <tr>\n",
              "      <th>53061666</th>\n",
              "      <td>f</td>\n",
              "      <td>f</td>\n",
              "      <td>False</td>\n",
              "      <td>2161.0</td>\n",
              "      <td>43444.0</td>\n",
              "      <td>11573</td>\n",
              "      <td>0.994178</td>\n",
              "      <td>1</td>\n",
              "      <td>0.253275</td>\n",
              "      <td>1</td>\n",
              "      <td>172.0</td>\n",
              "      <td>25</td>\n",
              "      <td>1</td>\n",
              "      <td>0</td>\n",
              "      <td>1</td>\n",
              "    </tr>\n",
              "    <tr>\n",
              "      <th>53061665</th>\n",
              "      <td>f</td>\n",
              "      <td>f</td>\n",
              "      <td>False</td>\n",
              "      <td>2161.0</td>\n",
              "      <td>43444.0</td>\n",
              "      <td>11573</td>\n",
              "      <td>0.994178</td>\n",
              "      <td>0</td>\n",
              "      <td>0.253275</td>\n",
              "      <td>1</td>\n",
              "      <td>176.0</td>\n",
              "      <td>21</td>\n",
              "      <td>1</td>\n",
              "      <td>0</td>\n",
              "      <td>1</td>\n",
              "    </tr>\n",
              "    <tr>\n",
              "      <th>53061663</th>\n",
              "      <td>t</td>\n",
              "      <td>f</td>\n",
              "      <td>False</td>\n",
              "      <td>2161.0</td>\n",
              "      <td>43444.0</td>\n",
              "      <td>11573</td>\n",
              "      <td>0.994178</td>\n",
              "      <td>1</td>\n",
              "      <td>0.253275</td>\n",
              "      <td>1</td>\n",
              "      <td>NaN</td>\n",
              "      <td>-1</td>\n",
              "      <td>1</td>\n",
              "      <td>0</td>\n",
              "      <td>1</td>\n",
              "    </tr>\n",
              "    <tr>\n",
              "      <th>...</th>\n",
              "      <td>...</td>\n",
              "      <td>...</td>\n",
              "      <td>...</td>\n",
              "      <td>...</td>\n",
              "      <td>...</td>\n",
              "      <td>...</td>\n",
              "      <td>...</td>\n",
              "      <td>...</td>\n",
              "      <td>...</td>\n",
              "      <td>...</td>\n",
              "      <td>...</td>\n",
              "      <td>...</td>\n",
              "      <td>...</td>\n",
              "      <td>...</td>\n",
              "      <td>...</td>\n",
              "    </tr>\n",
              "    <tr>\n",
              "      <th>57031265</th>\n",
              "      <td>f</td>\n",
              "      <td>f</td>\n",
              "      <td>False</td>\n",
              "      <td>573.0</td>\n",
              "      <td>9642.0</td>\n",
              "      <td>11910</td>\n",
              "      <td>1.000000</td>\n",
              "      <td>25</td>\n",
              "      <td>0.111111</td>\n",
              "      <td>1</td>\n",
              "      <td>1578.0</td>\n",
              "      <td>317</td>\n",
              "      <td>0</td>\n",
              "      <td>0</td>\n",
              "      <td>0</td>\n",
              "    </tr>\n",
              "    <tr>\n",
              "      <th>57031264</th>\n",
              "      <td>f</td>\n",
              "      <td>f</td>\n",
              "      <td>False</td>\n",
              "      <td>573.0</td>\n",
              "      <td>9642.0</td>\n",
              "      <td>11910</td>\n",
              "      <td>1.000000</td>\n",
              "      <td>405</td>\n",
              "      <td>0.111111</td>\n",
              "      <td>1</td>\n",
              "      <td>140.0</td>\n",
              "      <td>18</td>\n",
              "      <td>0</td>\n",
              "      <td>0</td>\n",
              "      <td>1</td>\n",
              "    </tr>\n",
              "    <tr>\n",
              "      <th>57031263</th>\n",
              "      <td>f</td>\n",
              "      <td>f</td>\n",
              "      <td>False</td>\n",
              "      <td>573.0</td>\n",
              "      <td>9642.0</td>\n",
              "      <td>11910</td>\n",
              "      <td>1.000000</td>\n",
              "      <td>20</td>\n",
              "      <td>0.111111</td>\n",
              "      <td>1</td>\n",
              "      <td>1167.0</td>\n",
              "      <td>218</td>\n",
              "      <td>0</td>\n",
              "      <td>0</td>\n",
              "      <td>0</td>\n",
              "    </tr>\n",
              "    <tr>\n",
              "      <th>57031262</th>\n",
              "      <td>t</td>\n",
              "      <td>f</td>\n",
              "      <td>False</td>\n",
              "      <td>573.0</td>\n",
              "      <td>9642.0</td>\n",
              "      <td>11910</td>\n",
              "      <td>1.000000</td>\n",
              "      <td>0</td>\n",
              "      <td>0.111111</td>\n",
              "      <td>1</td>\n",
              "      <td>28.0</td>\n",
              "      <td>1</td>\n",
              "      <td>0</td>\n",
              "      <td>0</td>\n",
              "      <td>1</td>\n",
              "    </tr>\n",
              "    <tr>\n",
              "      <th>57031261</th>\n",
              "      <td>f</td>\n",
              "      <td>f</td>\n",
              "      <td>False</td>\n",
              "      <td>573.0</td>\n",
              "      <td>9642.0</td>\n",
              "      <td>11910</td>\n",
              "      <td>1.000000</td>\n",
              "      <td>1</td>\n",
              "      <td>0.111111</td>\n",
              "      <td>1</td>\n",
              "      <td>196.0</td>\n",
              "      <td>24</td>\n",
              "      <td>0</td>\n",
              "      <td>0</td>\n",
              "      <td>1</td>\n",
              "    </tr>\n",
              "  </tbody>\n",
              "</table>\n",
              "<p>244386 rows × 15 columns</p>\n",
              "</div>\n",
              "    <div class=\"colab-df-buttons\">\n",
              "\n",
              "  <div class=\"colab-df-container\">\n",
              "    <button class=\"colab-df-convert\" onclick=\"convertToInteractive('df-e161ed79-8cf2-420b-af21-22c6a9e77c00')\"\n",
              "            title=\"Convert this dataframe to an interactive table.\"\n",
              "            style=\"display:none;\">\n",
              "\n",
              "  <svg xmlns=\"http://www.w3.org/2000/svg\" height=\"24px\" viewBox=\"0 -960 960 960\">\n",
              "    <path d=\"M120-120v-720h720v720H120Zm60-500h600v-160H180v160Zm220 220h160v-160H400v160Zm0 220h160v-160H400v160ZM180-400h160v-160H180v160Zm440 0h160v-160H620v160ZM180-180h160v-160H180v160Zm440 0h160v-160H620v160Z\"/>\n",
              "  </svg>\n",
              "    </button>\n",
              "\n",
              "  <style>\n",
              "    .colab-df-container {\n",
              "      display:flex;\n",
              "      gap: 12px;\n",
              "    }\n",
              "\n",
              "    .colab-df-convert {\n",
              "      background-color: #E8F0FE;\n",
              "      border: none;\n",
              "      border-radius: 50%;\n",
              "      cursor: pointer;\n",
              "      display: none;\n",
              "      fill: #1967D2;\n",
              "      height: 32px;\n",
              "      padding: 0 0 0 0;\n",
              "      width: 32px;\n",
              "    }\n",
              "\n",
              "    .colab-df-convert:hover {\n",
              "      background-color: #E2EBFA;\n",
              "      box-shadow: 0px 1px 2px rgba(60, 64, 67, 0.3), 0px 1px 3px 1px rgba(60, 64, 67, 0.15);\n",
              "      fill: #174EA6;\n",
              "    }\n",
              "\n",
              "    .colab-df-buttons div {\n",
              "      margin-bottom: 4px;\n",
              "    }\n",
              "\n",
              "    [theme=dark] .colab-df-convert {\n",
              "      background-color: #3B4455;\n",
              "      fill: #D2E3FC;\n",
              "    }\n",
              "\n",
              "    [theme=dark] .colab-df-convert:hover {\n",
              "      background-color: #434B5C;\n",
              "      box-shadow: 0px 1px 3px 1px rgba(0, 0, 0, 0.15);\n",
              "      filter: drop-shadow(0px 1px 2px rgba(0, 0, 0, 0.3));\n",
              "      fill: #FFFFFF;\n",
              "    }\n",
              "  </style>\n",
              "\n",
              "    <script>\n",
              "      const buttonEl =\n",
              "        document.querySelector('#df-e161ed79-8cf2-420b-af21-22c6a9e77c00 button.colab-df-convert');\n",
              "      buttonEl.style.display =\n",
              "        google.colab.kernel.accessAllowed ? 'block' : 'none';\n",
              "\n",
              "      async function convertToInteractive(key) {\n",
              "        const element = document.querySelector('#df-e161ed79-8cf2-420b-af21-22c6a9e77c00');\n",
              "        const dataTable =\n",
              "          await google.colab.kernel.invokeFunction('convertToInteractive',\n",
              "                                                    [key], {});\n",
              "        if (!dataTable) return;\n",
              "\n",
              "        const docLinkHtml = 'Like what you see? Visit the ' +\n",
              "          '<a target=\"_blank\" href=https://colab.research.google.com/notebooks/data_table.ipynb>data table notebook</a>'\n",
              "          + ' to learn more about interactive tables.';\n",
              "        element.innerHTML = '';\n",
              "        dataTable['output_type'] = 'display_data';\n",
              "        await google.colab.output.renderOutput(dataTable, element);\n",
              "        const docLink = document.createElement('div');\n",
              "        docLink.innerHTML = docLinkHtml;\n",
              "        element.appendChild(docLink);\n",
              "      }\n",
              "    </script>\n",
              "  </div>\n",
              "\n",
              "\n",
              "<div id=\"df-ebf7e30c-3daa-43c1-bf28-87861c4ac866\">\n",
              "  <button class=\"colab-df-quickchart\" onclick=\"quickchart('df-ebf7e30c-3daa-43c1-bf28-87861c4ac866')\"\n",
              "            title=\"Suggest charts\"\n",
              "            style=\"display:none;\">\n",
              "\n",
              "<svg xmlns=\"http://www.w3.org/2000/svg\" height=\"24px\"viewBox=\"0 0 24 24\"\n",
              "     width=\"24px\">\n",
              "    <g>\n",
              "        <path d=\"M19 3H5c-1.1 0-2 .9-2 2v14c0 1.1.9 2 2 2h14c1.1 0 2-.9 2-2V5c0-1.1-.9-2-2-2zM9 17H7v-7h2v7zm4 0h-2V7h2v10zm4 0h-2v-4h2v4z\"/>\n",
              "    </g>\n",
              "</svg>\n",
              "  </button>\n",
              "\n",
              "<style>\n",
              "  .colab-df-quickchart {\n",
              "      --bg-color: #E8F0FE;\n",
              "      --fill-color: #1967D2;\n",
              "      --hover-bg-color: #E2EBFA;\n",
              "      --hover-fill-color: #174EA6;\n",
              "      --disabled-fill-color: #AAA;\n",
              "      --disabled-bg-color: #DDD;\n",
              "  }\n",
              "\n",
              "  [theme=dark] .colab-df-quickchart {\n",
              "      --bg-color: #3B4455;\n",
              "      --fill-color: #D2E3FC;\n",
              "      --hover-bg-color: #434B5C;\n",
              "      --hover-fill-color: #FFFFFF;\n",
              "      --disabled-bg-color: #3B4455;\n",
              "      --disabled-fill-color: #666;\n",
              "  }\n",
              "\n",
              "  .colab-df-quickchart {\n",
              "    background-color: var(--bg-color);\n",
              "    border: none;\n",
              "    border-radius: 50%;\n",
              "    cursor: pointer;\n",
              "    display: none;\n",
              "    fill: var(--fill-color);\n",
              "    height: 32px;\n",
              "    padding: 0;\n",
              "    width: 32px;\n",
              "  }\n",
              "\n",
              "  .colab-df-quickchart:hover {\n",
              "    background-color: var(--hover-bg-color);\n",
              "    box-shadow: 0 1px 2px rgba(60, 64, 67, 0.3), 0 1px 3px 1px rgba(60, 64, 67, 0.15);\n",
              "    fill: var(--button-hover-fill-color);\n",
              "  }\n",
              "\n",
              "  .colab-df-quickchart-complete:disabled,\n",
              "  .colab-df-quickchart-complete:disabled:hover {\n",
              "    background-color: var(--disabled-bg-color);\n",
              "    fill: var(--disabled-fill-color);\n",
              "    box-shadow: none;\n",
              "  }\n",
              "\n",
              "  .colab-df-spinner {\n",
              "    border: 2px solid var(--fill-color);\n",
              "    border-color: transparent;\n",
              "    border-bottom-color: var(--fill-color);\n",
              "    animation:\n",
              "      spin 1s steps(1) infinite;\n",
              "  }\n",
              "\n",
              "  @keyframes spin {\n",
              "    0% {\n",
              "      border-color: transparent;\n",
              "      border-bottom-color: var(--fill-color);\n",
              "      border-left-color: var(--fill-color);\n",
              "    }\n",
              "    20% {\n",
              "      border-color: transparent;\n",
              "      border-left-color: var(--fill-color);\n",
              "      border-top-color: var(--fill-color);\n",
              "    }\n",
              "    30% {\n",
              "      border-color: transparent;\n",
              "      border-left-color: var(--fill-color);\n",
              "      border-top-color: var(--fill-color);\n",
              "      border-right-color: var(--fill-color);\n",
              "    }\n",
              "    40% {\n",
              "      border-color: transparent;\n",
              "      border-right-color: var(--fill-color);\n",
              "      border-top-color: var(--fill-color);\n",
              "    }\n",
              "    60% {\n",
              "      border-color: transparent;\n",
              "      border-right-color: var(--fill-color);\n",
              "    }\n",
              "    80% {\n",
              "      border-color: transparent;\n",
              "      border-right-color: var(--fill-color);\n",
              "      border-bottom-color: var(--fill-color);\n",
              "    }\n",
              "    90% {\n",
              "      border-color: transparent;\n",
              "      border-bottom-color: var(--fill-color);\n",
              "    }\n",
              "  }\n",
              "</style>\n",
              "\n",
              "  <script>\n",
              "    async function quickchart(key) {\n",
              "      const quickchartButtonEl =\n",
              "        document.querySelector('#' + key + ' button');\n",
              "      quickchartButtonEl.disabled = true;  // To prevent multiple clicks.\n",
              "      quickchartButtonEl.classList.add('colab-df-spinner');\n",
              "      try {\n",
              "        const charts = await google.colab.kernel.invokeFunction(\n",
              "            'suggestCharts', [key], {});\n",
              "      } catch (error) {\n",
              "        console.error('Error during call to suggestCharts:', error);\n",
              "      }\n",
              "      quickchartButtonEl.classList.remove('colab-df-spinner');\n",
              "      quickchartButtonEl.classList.add('colab-df-quickchart-complete');\n",
              "    }\n",
              "    (() => {\n",
              "      let quickchartButtonEl =\n",
              "        document.querySelector('#df-ebf7e30c-3daa-43c1-bf28-87861c4ac866 button');\n",
              "      quickchartButtonEl.style.display =\n",
              "        google.colab.kernel.accessAllowed ? 'block' : 'none';\n",
              "    })();\n",
              "  </script>\n",
              "</div>\n",
              "    </div>\n",
              "  </div>\n"
            ],
            "application/vnd.google.colaboratory.intrinsic+json": {
              "type": "dataframe",
              "variable_name": "testX"
            }
          },
          "metadata": {},
          "execution_count": 32
        }
      ]
    },
    {
      "cell_type": "code",
      "execution_count": 33,
      "metadata": {
        "id": "n5lD1VJHL7js"
      },
      "outputs": [],
      "source": [
        "import numpy as np\n",
        "\n",
        "Ycol = 'views'\n",
        "trainX, trainY = trainXY.drop(Ycol, axis=1), trainXY[Ycol]\n",
        "trainY = np.log(trainY + 100)\n",
        "trainX['previous_views_mean'] = np.log(trainX['previous_views_mean']+100)\n",
        "testX['previous_views_mean'] = np.log(testX['previous_views_mean']+100)\n"
      ]
    },
    {
      "cell_type": "markdown",
      "source": [
        "Разберемся с Null значениями"
      ],
      "metadata": {
        "id": "nzvhiKhtM38O"
      }
    },
    {
      "cell_type": "code",
      "source": [
        "trainX['text_length'] = trainX['text_length'].fillna(0)\n",
        "testX['text_length'] = testX['text_length'].fillna(0)\n",
        "trainX['word_count'] = trainX['word_count'].replace(-1, 0)\n",
        "testX['word_count'] = testX['word_count'].replace(-1, 0)\n",
        "\n",
        "testX.loc[testX.isna().any(axis=1), 'hours_diff'] = 1\n",
        "trainX.loc[trainX.isna().any(axis=1), 'previous_views_mean'] = trainX.user_count\n"
      ],
      "metadata": {
        "id": "LTt9AauGNRuY"
      },
      "execution_count": 34,
      "outputs": []
    },
    {
      "cell_type": "code",
      "source": [
        "trainX_dummy = pd.get_dummies(trainX)\n",
        "testX_dummy = pd.get_dummies(testX)"
      ],
      "metadata": {
        "id": "r3kSfsc1T1bv"
      },
      "execution_count": 35,
      "outputs": []
    },
    {
      "cell_type": "markdown",
      "metadata": {
        "id": "9kT9wiWTL7jt"
      },
      "source": [
        "# train your model and predict test"
      ]
    },
    {
      "cell_type": "code",
      "execution_count": 37,
      "metadata": {
        "id": "gjPXfK5SL7ju"
      },
      "outputs": [],
      "source": [
        "from sklearn.ensemble import GradientBoostingRegressor\n",
        "model = GradientBoostingRegressor(n_estimators=100, learning_rate=0.1, random_state=52)\n",
        "model.fit(trainX_dummy, trainY)\n",
        "\n",
        "testY = model.predict(testX_dummy)\n"
      ]
    },
    {
      "cell_type": "code",
      "source": [
        "prediction = testY"
      ],
      "metadata": {
        "id": "HBEBYHzObT80"
      },
      "execution_count": 38,
      "outputs": []
    },
    {
      "cell_type": "code",
      "execution_count": 39,
      "metadata": {
        "colab": {
          "base_uri": "https://localhost:8080/"
        },
        "id": "N96bnjv6L7ju",
        "outputId": "ebeb6b0c-c099-4c70-ffc0-ad9be7bc9e91"
      },
      "outputs": [
        {
          "output_type": "execute_result",
          "data": {
            "text/plain": [
              "(244386,)"
            ]
          },
          "metadata": {},
          "execution_count": 39
        }
      ],
      "source": [
        "prediction.shape"
      ]
    },
    {
      "cell_type": "code",
      "execution_count": 40,
      "metadata": {
        "id": "jsHHdpu_L7jv"
      },
      "outputs": [],
      "source": [
        "assert prediction.shape == (244386,)"
      ]
    },
    {
      "cell_type": "markdown",
      "metadata": {
        "id": "gawO6cq1L7jw"
      },
      "source": [
        "# submit"
      ]
    },
    {
      "cell_type": "code",
      "execution_count": 41,
      "metadata": {
        "colab": {
          "base_uri": "https://localhost:8080/"
        },
        "id": "dmQ_aCsAL7jx",
        "outputId": "1bb8f068-9656-46b0-ae83-10e70001aa92"
      },
      "outputs": [
        {
          "output_type": "stream",
          "name": "stdout",
          "text": [
            "  % Total    % Received % Xferd  Average Speed   Time    Time     Time  Current\n",
            "                                 Dload  Upload   Total   Spent    Left  Speed\n",
            "100  1899  100  1899    0     0   8239      0 --:--:-- --:--:-- --:--:--  8220\n"
          ]
        }
      ],
      "source": [
        "! curl -H 'Cache-Control: no-cache' https://raw.githubusercontent.com/mike0sv/lsml_submit_server/2024/src/client.py -o client.py"
      ]
    },
    {
      "cell_type": "code",
      "execution_count": 42,
      "metadata": {
        "id": "pmS6UZ44L7jx"
      },
      "outputs": [],
      "source": [
        "import client"
      ]
    },
    {
      "cell_type": "code",
      "execution_count": 43,
      "metadata": {
        "colab": {
          "base_uri": "https://localhost:8080/"
        },
        "id": "p6K4B9zWL7jy",
        "outputId": "dd463e73-751f-4b05-a6e8-951f2a7f9034"
      },
      "outputs": [
        {
          "name": "stdout",
          "output_type": "stream",
          "text": [
            "Enter username:\n",
            "hse-17\n",
            "Enter password:\n",
            "··········\n"
          ]
        },
        {
          "output_type": "execute_result",
          "data": {
            "text/plain": [
              "{'data': {'mape': 9.010809152074037,\n",
              "  'mean_absolute_error': 0.7298100964933767,\n",
              "  'mean_squared_error': 1.5812998143659356,\n",
              "  'rmse': 1.257497441097172,\n",
              "  'rmspe': 16.255820162461866},\n",
              " 'ok': True}"
            ]
          },
          "metadata": {},
          "execution_count": 43
        }
      ],
      "source": [
        "client.make_eval(pd.DataFrame({'views': prediction}, index=testX.index))"
      ]
    },
    {
      "cell_type": "code",
      "source": [
        "#client.make_eval(pd.DataFrame({'views': prediction}, index=testX.index), final=True)"
      ],
      "metadata": {
        "id": "7HJCtFsApr5F"
      },
      "execution_count": 44,
      "outputs": []
    },
    {
      "cell_type": "code",
      "execution_count": 45,
      "metadata": {
        "colab": {
          "base_uri": "https://localhost:8080/"
        },
        "id": "8-biesWfL7jy",
        "outputId": "ee9eeaa2-2c37-468c-cc5a-54e8ff19fb16"
      },
      "outputs": [
        {
          "output_type": "execute_result",
          "data": {
            "text/plain": [
              "{'2024-06-18': [{'baseline_beaten': True,\n",
              "   'is_final': False,\n",
              "   'metrics': {'mape': 9.010809152074032,\n",
              "    'mean_absolute_error': 0.7298100964933757,\n",
              "    'mean_squared_error': 1.5812998143659354,\n",
              "    'rmse': 1.257497441097172,\n",
              "    'rmspe': 16.25582016246188}},\n",
              "  {'baseline_beaten': True,\n",
              "   'is_final': True,\n",
              "   'metrics': {'mape': 9.010809152074032,\n",
              "    'mean_absolute_error': 0.7298100964933757,\n",
              "    'mean_squared_error': 1.5812998143659354,\n",
              "    'rmse': 1.257497441097172,\n",
              "    'rmspe': 16.25582016246188}},\n",
              "  {'baseline_beaten': True,\n",
              "   'is_final': False,\n",
              "   'metrics': {'mape': 9.010809152074037,\n",
              "    'mean_absolute_error': 0.7298100964933767,\n",
              "    'mean_squared_error': 1.5812998143659356,\n",
              "    'rmse': 1.257497441097172,\n",
              "    'rmspe': 16.255820162461866}}]}"
            ]
          },
          "metadata": {},
          "execution_count": 45
        }
      ],
      "source": [
        "client.check_results()"
      ]
    },
    {
      "cell_type": "code",
      "source": [],
      "metadata": {
        "id": "XnxaK6nRJ_my"
      },
      "execution_count": null,
      "outputs": []
    }
  ],
  "metadata": {
    "kernelspec": {
      "display_name": "Python 3",
      "language": "python",
      "name": "python3"
    },
    "language_info": {
      "codemirror_mode": {
        "name": "ipython",
        "version": 3
      },
      "file_extension": ".py",
      "mimetype": "text/x-python",
      "name": "python",
      "nbconvert_exporter": "python",
      "pygments_lexer": "ipython3",
      "version": "3.6.7"
    },
    "colab": {
      "provenance": []
    }
  },
  "nbformat": 4,
  "nbformat_minor": 0
}