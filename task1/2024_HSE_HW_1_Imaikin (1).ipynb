{
  "cells": [
    {
      "cell_type": "markdown",
      "metadata": {
        "id": "sY17JAeAB08_"
      },
      "source": [
        "В этом домашнем задании необходимо подготовить данные и\n",
        "\n",
        "написать SQL запрос который будет работать оптимальным образом\n",
        "\n",
        "на любых данных. Оценка будет рассчитана по производительности и по качеству.\n",
        "\n",
        "Запрос будет запущен 10 раз с разными параметрами (по три раза с каждым из параметров, чтобы исключить выбросы)\n",
        "\n",
        "за каждое совпадение ответа с baseline начисляется максимум 1 балл, в зависимости от производительности вашего решения. Чем быстрее от baseline тем ближе к 1 баллу за 1 итерацию запуска. Максимум 10 баллов.\n",
        "\n",
        "ВНИМАНИЕ: Список тестовых жанров (genres) в финальном тесте будет отличаться от того, что в ноутбуке. Ваш запрос должен работать на любых значениях жанров, аналогично тому, как работает baseline запрос.\n",
        "\n",
        "За списывание - 0 баллов, срок сдачи **27.05.2024 00:00:00 MSK**, -1 бал до **28.05.2024 00:00:00 MSK**, далее 0 баллов\n",
        "\n",
        "Ноутбук c решением **экспортируется** File/Dowload/ipynb и отправляется email со вложением на адрес ilya+hse@aniskovets.com\n",
        "\n",
        "В ноутбуке, пожалуйста, не изменяйте ничего, кроме блока инициализации и вашего ответа.\n",
        "\n",
        "Ноутбук должен запускаться без ошибок из меню Runtime/Run All\n",
        "\n",
        "Ссылки на ноутбуки не принимаются, необходимо физически экспортировать ноутбук и отправить на email ilya+hse@aniskovets.com\n",
        "\n",
        "**Полезные ссылки**:\n",
        "\n",
        "https://spark.apache.org/docs/latest/sql-ref.html\n",
        "\n",
        "как создавать таблицы с партицированием и бакетированием:\n",
        "\n",
        "https://spark.apache.org/docs/latest/sql-ref-syntax-ddl-create-table-hiveformat.html\n",
        "\n",
        "Документация по схемам БД:\n",
        "\n",
        "https://developer.imdb.com/non-commercial-datasets/\n",
        "\n"
      ]
    },
    {
      "cell_type": "code",
      "execution_count": 1,
      "metadata": {
        "colab": {
          "base_uri": "https://localhost:8080/"
        },
        "id": "ing3jMJlCiv2",
        "outputId": "993b95e7-54b0-404d-d56d-b42ca3ab00bd"
      },
      "outputs": [
        {
          "name": "stdout",
          "output_type": "stream",
          "text": [
            "Requirement already satisfied: pyspark==3.5.1 in /usr/local/lib/python3.10/dist-packages (3.5.1)\n",
            "Requirement already satisfied: py4j==0.10.9.7 in /usr/local/lib/python3.10/dist-packages (from pyspark==3.5.1) (0.10.9.7)\n"
          ]
        }
      ],
      "source": [
        "!pip install pyspark==3.5.1"
      ]
    },
    {
      "cell_type": "code",
      "execution_count": 2,
      "metadata": {
        "colab": {
          "base_uri": "https://localhost:8080/"
        },
        "id": "ZBnsfKrCCjnO",
        "outputId": "ee6508c4-1571-436b-f18f-2e237d6daf37"
      },
      "outputs": [
        {
          "name": "stdout",
          "output_type": "stream",
          "text": [
            "  % Total    % Received % Xferd  Average Speed   Time    Time     Time  Current\n",
            "                                 Dload  Upload   Total   Spent    Left  Speed\n",
            "100  132M  100  132M    0     0  8379k      0  0:00:16  0:00:16 --:--:-- 11.6M\n",
            "  % Total    % Received % Xferd  Average Speed   Time    Time     Time  Current\n",
            "                                 Dload  Upload   Total   Spent    Left  Speed\n",
            "100 5526k  100 5526k    0     0  1079k      0  0:00:05  0:00:05 --:--:-- 1304k\n"
          ]
        }
      ],
      "source": [
        "!curl -O https://mars.ru77.ru/data/title.basics.tsv.gz\n",
        "!curl -O https://mars.ru77.ru/data/title.ratings.tsv.gz"
      ]
    },
    {
      "cell_type": "code",
      "execution_count": 3,
      "metadata": {
        "id": "UbfQ8TddC0su"
      },
      "outputs": [],
      "source": [
        "from pyspark.sql import SparkSession, SQLContext\n",
        "from pyspark import SparkConf, SparkContext\n",
        "\n",
        "spark = SparkSession.builder.master(\"local[8]\").config(\"spark.driver.memory\", \"8g\").appName(\"hse\").enableHiveSupport().getOrCreate()\n",
        "sql = spark.sql"
      ]
    },
    {
      "cell_type": "code",
      "execution_count": 4,
      "metadata": {
        "id": "sZBwRWPPC10u"
      },
      "outputs": [],
      "source": [
        "title_basics_csv = spark.read.csv(\"title.basics.tsv.gz\", sep='\\\\t', nullValue='\\\\N', header=True, quote=\"\", escape=\"\")\n",
        "title_basics_csv.createOrReplaceTempView(\"title_basics_csv\")\n",
        "\n",
        "title_ratings_csv = spark.read.csv(\"title.ratings.tsv.gz\", sep='\\\\t', nullValue='\\\\N', header=True, quote=\"\", escape=\"\")\n",
        "title_ratings_csv.createOrReplaceTempView(\"title_ratings_csv\")\n"
      ]
    },
    {
      "cell_type": "code",
      "execution_count": 5,
      "metadata": {
        "id": "bIL0v--qC4KF"
      },
      "outputs": [],
      "source": [
        "_ = spark.sql(\"\"\"\n",
        "CREATE TABLE IF NOT EXISTS baseline_title_basics USING PARQUET AS SELECT * FROM title_basics_csv\n",
        "\"\"\").collect()\n",
        "_ = spark.sql(\"\"\"\n",
        "CREATE TABLE IF NOT EXISTS baseline_title_ratings USING PARQUET AS SELECT * FROM title_ratings_csv\n",
        "\"\"\").collect()\n"
      ]
    },
    {
      "cell_type": "code",
      "execution_count": 6,
      "metadata": {
        "id": "l-TB_ca4C5HF"
      },
      "outputs": [],
      "source": [
        "import time\n",
        "import random\n",
        "\n",
        "query_1_baseline = \"\"\"\n",
        "   -- это baseline, не изменяйте его\n",
        "    SELECT tb.*\n",
        "    FROM baseline_title_basics tb\n",
        "    JOIN baseline_title_ratings tr ON tb.tconst = tr.tconst\n",
        "    WHERE tr.averageRating > {averageRating} AND tr.numVotes >= {minVotes} AND tb.startYear >= {startYear} and array_contains(split(genres, '[,]'), {genre})\n",
        "\"\"\""
      ]
    },
    {
      "cell_type": "code",
      "execution_count": 7,
      "metadata": {
        "id": "LuOTBnc1DPqH"
      },
      "outputs": [],
      "source": [
        "genres = spark.sql(\"\"\"\n",
        "select distinct explode(split(genres, '[,]'))\n",
        "FROM baseline_title_basics\n",
        "\"\"\").collect()"
      ]
    },
    {
      "cell_type": "code",
      "execution_count": 8,
      "metadata": {
        "id": "5OD4uzEcC6JN"
      },
      "outputs": [],
      "source": [
        "def validate_data(baseline_df, answer_df):\n",
        "  baseline_df_count = baseline_df.count()\n",
        "  print(\"baseline_df_count:\", baseline_df_count)\n",
        "\n",
        "  answer_df_count = answer_df.count()\n",
        "  print(\"answer_df_count:\", answer_df_count)\n",
        "\n",
        "  assert(baseline_df_count == answer_df_count)\n",
        "\n",
        "  baseline_df_distinct = baseline_df.distinct()\n",
        "  answer_df_distinct = answer_df.distinct()\n",
        "\n",
        "  baseline_df_distinct_count = baseline_df_distinct.count()\n",
        "  print(\"baseline_df_distinct_count:\", baseline_df_distinct_count)\n",
        "\n",
        "  answer_df_distinct_count = answer_df_distinct.count()\n",
        "  print(\"answer_df_distinct_count:\", answer_df_distinct_count)\n",
        "\n",
        "  assert(baseline_df_distinct_count == answer_df_distinct_count)\n",
        "\n",
        "  merged_df_distinct_count = baseline_df.unionByName(answer_df).distinct().count()\n",
        "  print(\"merged_df_distinct_count: \", merged_df_distinct_count)\n",
        "\n",
        "  assert(merged_df_distinct_count == baseline_df_distinct_count)\n"
      ]
    },
    {
      "cell_type": "markdown",
      "metadata": {
        "id": "jiTJB0S0DUH7"
      },
      "source": [
        "На стадии инициализации вы можете создавать любые таблицы, эта стадия не учитывается при расчете производительности решения. В данном случае мы создаем таблицы в формате паркет, как пример такой оптимизации. Запрос будет запускаться с различными случайными параметрами, результат должен совпадать с baseline.\n",
        "\n",
        "ВНИМАНИЕ: Список тестовых жанров (genres) в финальном тесте будет отличаться от того, что в ноутбуке. Ваш запрос должен работать на любых значениях жанров, аналогично тому, как работает baseline запрос.\n",
        "\n",
        "**В ячейке ниже необходимо написать ваш инициализационный код, ниже только пример такого кода**"
      ]
    },
    {
      "cell_type": "markdown",
      "metadata": {
        "id": "k-59hY-ODdE3"
      },
      "source": [
        "**В ячейке ниже необходимо написать ваш SQL запрос**\n",
        "\n",
        "\n"
      ]
    },
    {
      "cell_type": "code",
      "execution_count": 9,
      "metadata": {
        "id": "-UNvaDnBRCd3"
      },
      "outputs": [],
      "source": [
        "_ = spark.sql(\"\"\"\n",
        "CREATE TABLE IF NOT EXISTS title_basics USING PARQUET AS SELECT *\n",
        "FROM title_basics_csv ORDER BY tconst\n",
        "\"\"\").collect()\n",
        "\n",
        "_ = spark.sql(\"\"\"\n",
        "CREATE TABLE IF NOT EXISTS title_ratings USING PARQUET AS SELECT *\n",
        "FROM title_ratings_csv ORDER BY tconst\n",
        "\"\"\").collect()\n",
        "\n",
        "\n",
        "query_1_answer = \"\"\"\n",
        "WITH filtered_ratings (\n",
        "  SELECT tr.tconst\n",
        "  FROM title_ratings tr\n",
        "  WHERE tr.averageRating > {averageRating}\n",
        "    AND tr.numVotes >= {minVotes}\n",
        "),\n",
        "filtered_titles (\n",
        "  SELECT\n",
        "    tb.tconst,\n",
        "    tb.primaryTitle,\n",
        "    tb.titleType,\n",
        "    tb.originalTitle,\n",
        "    tb.startYear,\n",
        "    tb.isAdult,\n",
        "    tb.endYear,\n",
        "    tb.runtimeMinutes,\n",
        "    tb.genres\n",
        "  FROM title_basics tb\n",
        "  WHERE tb.startYear >= {startYear}\n",
        "    AND FIND_IN_SET({genre}, tb.genres) > 0\n",
        ")\n",
        "SELECT\n",
        "    tb.tconst,\n",
        "    tb.primaryTitle,\n",
        "    tb.titleType,\n",
        "    tb.originalTitle,\n",
        "    tb.startYear,\n",
        "    tb.isAdult,\n",
        "    tb.endYear,\n",
        "    tb.runtimeMinutes,\n",
        "    tb.genres\n",
        "FROM filtered_titles tb\n",
        "JOIN filtered_ratings tr\n",
        "  ON tb.tconst = tr.tconst;\n",
        "\"\"\""
      ]
    },
    {
      "cell_type": "markdown",
      "metadata": {},
      "source": [
        "Второй вариант решения"
      ]
    },
    {
      "cell_type": "code",
      "execution_count": null,
      "metadata": {},
      "outputs": [],
      "source": [
        "spark.sql(\"\"\"\n",
        "CREATE TABLE title_basics_ratings\n",
        "USING PARQUET\n",
        "PARTITIONED BY (genres_exploded, startYear)\n",
        "CLUSTERED BY (averageRating, numVotes)\n",
        "SORTED BY (averageRating ASC, numVotes ASC)\n",
        "INTO 8 BUCKETS\n",
        "AS\n",
        "SELECT tb.tconst,\n",
        "       tb.titleType,\n",
        "       tb.primaryTitle,\n",
        "       tb.originalTitle,\n",
        "       tb.endYear,\n",
        "       CAST(tb.isAdult AS TINYINT) AS isAdult,\n",
        "       CAST(tb.startYear AS SMALLINT) AS startYear,\n",
        "       CAST(tb.runtimeMinutes AS INT) AS runtimeMinutes,\n",
        "       tb.genres AS genres,\n",
        "       explode(split(tb.genres, '[,]')) AS genres_exploded,\n",
        "       CAST(tr.averageRating AS DOUBLE) AS averageRating,\n",
        "       CAST(tr.numVotes AS INT) AS numVotes\n",
        "FROM title_basics tb\n",
        "JOIN title_ratings tr ON tb.tconst = tr.tconst;\n",
        "\"\"\")\n",
        "spark.sql(\"\"\"SELECT * FROM title_basics_ratings;\"\"\").show()"
      ]
    },
    {
      "cell_type": "markdown",
      "metadata": {
        "id": "NNX8QT0YDg0_"
      },
      "source": [
        "**Это автотест, пожалуйста, не изменяйте его**\n"
      ]
    },
    {
      "cell_type": "code",
      "execution_count": 10,
      "metadata": {
        "colab": {
          "base_uri": "https://localhost:8080/"
        },
        "id": "rvKQaMOWDke6",
        "outputId": "16c64a45-9e70-4d28-e6a9-4e8e09bbf30f"
      },
      "outputs": [
        {
          "name": "stdout",
          "output_type": "stream",
          "text": [
            "iteration: 0\n",
            "{'averageRating': 0.8740046303809013, 'minVotes': 3998, 'startYear': 1826, 'genre': 'Romance', 'baseline_time_1': 2.7245559692382812, 'answer_time_1': 1.7748775482177734, 'baseline_time_2': 2.334035634994507, 'answer_time_2': 1.5263960361480713, 'baseline_time_3': 1.4890921115875244, 'answer_time_3': 1.117569923400879}\n",
            "baseline_df_count: 3145\n",
            "answer_df_count: 3145\n",
            "baseline_df_distinct_count: 3145\n",
            "answer_df_distinct_count: 3145\n",
            "merged_df_distinct_count:  3145\n",
            "iteration: 1\n",
            "{'averageRating': 8.744991758161534, 'minVotes': 530, 'startYear': 1937, 'genre': 'Short', 'baseline_time_1': 4.545339107513428, 'answer_time_1': 5.71745228767395, 'baseline_time_2': 4.052622318267822, 'answer_time_2': 3.818162202835083, 'baseline_time_3': 4.821440696716309, 'answer_time_3': 3.6557137966156006}\n",
            "baseline_df_count: 36\n",
            "answer_df_count: 36\n",
            "baseline_df_distinct_count: 36\n",
            "answer_df_distinct_count: 36\n",
            "merged_df_distinct_count:  36\n",
            "iteration: 2\n",
            "{'averageRating': 9.25409928513767, 'minVotes': 3422, 'startYear': 1915, 'genre': 'Film-Noir', 'baseline_time_1': 9.889217615127563, 'answer_time_1': 6.412600994110107, 'baseline_time_2': 10.14216947555542, 'answer_time_2': 5.309187412261963, 'baseline_time_3': 10.319328546524048, 'answer_time_3': 4.8073506355285645}\n",
            "baseline_df_count: 0\n",
            "answer_df_count: 0\n",
            "baseline_df_distinct_count: 0\n",
            "answer_df_distinct_count: 0\n",
            "merged_df_distinct_count:  0\n",
            "iteration: 3\n",
            "{'averageRating': 9.852567253127141, 'minVotes': 265, 'startYear': 1920, 'genre': 'Talk-Show', 'baseline_time_1': 10.443947076797485, 'answer_time_1': 6.606718301773071, 'baseline_time_2': 9.927922487258911, 'answer_time_2': 5.465392589569092, 'baseline_time_3': 10.234130859375, 'answer_time_3': 4.71635103225708}\n",
            "baseline_df_count: 1\n",
            "answer_df_count: 1\n",
            "baseline_df_distinct_count: 1\n",
            "answer_df_distinct_count: 1\n",
            "merged_df_distinct_count:  1\n",
            "iteration: 4\n",
            "{'averageRating': 8.951017609559646, 'minVotes': 787, 'startYear': 1811, 'genre': 'Game-Show', 'baseline_time_1': 11.718353748321533, 'answer_time_1': 5.692245960235596, 'baseline_time_2': 10.50520396232605, 'answer_time_2': 5.206521987915039, 'baseline_time_3': 10.171860456466675, 'answer_time_3': 4.846303701400757}\n",
            "baseline_df_count: 3\n",
            "answer_df_count: 3\n",
            "baseline_df_distinct_count: 3\n",
            "answer_df_distinct_count: 3\n",
            "merged_df_distinct_count:  3\n",
            "iteration: 5\n",
            "{'averageRating': 0.056800280066003905, 'minVotes': 3453, 'startYear': 1921, 'genre': 'News', 'baseline_time_1': 4.138132095336914, 'answer_time_1': 3.686460256576538, 'baseline_time_2': 4.674758434295654, 'answer_time_2': 3.704981565475464, 'baseline_time_3': 3.394226551055908, 'answer_time_3': 3.4259822368621826}\n",
            "baseline_df_count: 25\n",
            "answer_df_count: 25\n",
            "baseline_df_distinct_count: 25\n",
            "answer_df_distinct_count: 25\n",
            "merged_df_distinct_count:  25\n",
            "iteration: 6\n",
            "{'averageRating': 4.670844337479028, 'minVotes': 1748, 'startYear': 1866, 'genre': 'Adult', 'baseline_time_1': 10.885274171829224, 'answer_time_1': 5.599040269851685, 'baseline_time_2': 10.391206979751587, 'answer_time_2': 4.868912220001221, 'baseline_time_3': 10.308041334152222, 'answer_time_3': 6.1952879428863525}\n",
            "baseline_df_count: 6\n",
            "answer_df_count: 6\n",
            "baseline_df_distinct_count: 6\n",
            "answer_df_distinct_count: 6\n",
            "merged_df_distinct_count:  6\n",
            "iteration: 7\n",
            "{'averageRating': 4.824583989645542, 'minVotes': 1284, 'startYear': 1914, 'genre': 'Crime', 'baseline_time_1': 1.057971477508545, 'answer_time_1': 1.041285514831543, 'baseline_time_2': 0.7649247646331787, 'answer_time_2': 1.096996545791626, 'baseline_time_3': 1.3673110008239746, 'answer_time_3': 1.0550472736358643}\n",
            "baseline_df_count: 9300\n",
            "answer_df_count: 9300\n",
            "baseline_df_distinct_count: 9300\n",
            "answer_df_distinct_count: 9300\n",
            "merged_df_distinct_count:  9300\n",
            "iteration: 8\n",
            "{'averageRating': 3.618170997923862, 'minVotes': 4516, 'startYear': 1991, 'genre': 'Music', 'baseline_time_1': 1.1886165142059326, 'answer_time_1': 1.9310412406921387, 'baseline_time_2': 1.451584815979004, 'answer_time_2': 1.0011003017425537, 'baseline_time_3': 0.6994245052337646, 'answer_time_3': 0.7783474922180176}\n",
            "baseline_df_count: 408\n",
            "answer_df_count: 408\n",
            "baseline_df_distinct_count: 408\n",
            "answer_df_distinct_count: 408\n",
            "merged_df_distinct_count:  408\n",
            "iteration: 9\n",
            "{'averageRating': 4.098221389824922, 'minVotes': 947, 'startYear': 1829, 'genre': 'Comedy', 'baseline_time_1': 0.8634710311889648, 'answer_time_1': 0.793527364730835, 'baseline_time_2': 0.6796691417694092, 'answer_time_2': 0.7196877002716064, 'baseline_time_3': 0.6700072288513184, 'answer_time_3': 0.6612317562103271}\n",
            "baseline_df_count: 21624\n",
            "answer_df_count: 21624\n",
            "baseline_df_distinct_count: 21624\n",
            "answer_df_distinct_count: 21624\n",
            "merged_df_distinct_count:  21624\n"
          ]
        }
      ],
      "source": [
        "iterations = 10\n",
        "\n",
        "attempts = []\n",
        "\n",
        "for i in range(iterations):\n",
        "  attempt = {}\n",
        "  print(\"iteration:\", i)\n",
        "  attempt['averageRating'] = random.random() * 10\n",
        "  attempt['minVotes'] = random.randint(100, 5000)\n",
        "  attempt['startYear'] = random.randint(1800, 2028)\n",
        "  attempt['genre'] = genres[random.randint(0, len(genres) - 1)][0]\n",
        "\n",
        "  baseline_df = spark.sql(query_1_baseline, **attempt)\n",
        "  answer_df = spark.sql(query_1_answer, **attempt)\n",
        "\n",
        "  start = time.time()\n",
        "  _ = baseline_df.limit(10).collect()\n",
        "  end = time.time()\n",
        "  attempt['baseline_time_1'] = end - start\n",
        "\n",
        "  start = time.time()\n",
        "  _ = answer_df.limit(10).collect()\n",
        "  end = time.time()\n",
        "  attempt['answer_time_1'] = end - start\n",
        "\n",
        "  start = time.time()\n",
        "  _ = baseline_df.limit(10).collect()\n",
        "  end = time.time()\n",
        "  attempt['baseline_time_2'] = end - start\n",
        "\n",
        "  start = time.time()\n",
        "  _ = answer_df.limit(10).collect()\n",
        "  end = time.time()\n",
        "  attempt['answer_time_2'] = end - start\n",
        "\n",
        "  start = time.time()\n",
        "  _ = baseline_df.limit(10).collect()\n",
        "  end = time.time()\n",
        "  attempt['baseline_time_3'] = end - start\n",
        "\n",
        "  start = time.time()\n",
        "  _ = answer_df.limit(10).collect()\n",
        "  end = time.time()\n",
        "  attempt['answer_time_3'] = end - start\n",
        "\n",
        "  print(attempt)\n",
        "  attempts.append(attempt)\n",
        "\n",
        "  validate_data(baseline_df, answer_df)"
      ]
    },
    {
      "cell_type": "code",
      "execution_count": 11,
      "metadata": {
        "colab": {
          "base_uri": "https://localhost:8080/"
        },
        "id": "VZ21RUkzDm1C",
        "outputId": "69a86591-b3e2-4c32-cd61-77d11610cadc"
      },
      "outputs": [
        {
          "name": "stdout",
          "output_type": "stream",
          "text": [
            "averageRating,minVotes,startYear,genre,baseline_time_1,answer_time_1,baseline_time_2,answer_time_2,baseline_time_3,answer_time_3\r\n",
            "0.8740046303809013,3998,1826,Romance,2.7245559692382812,1.7748775482177734,2.334035634994507,1.5263960361480713,1.4890921115875244,1.117569923400879\r\n",
            "8.744991758161534,530,1937,Short,4.545339107513428,5.71745228767395,4.052622318267822,3.818162202835083,4.821440696716309,3.6557137966156006\r\n",
            "9.25409928513767,3422,1915,Film-Noir,9.889217615127563,6.412600994110107,10.14216947555542,5.309187412261963,10.319328546524048,4.8073506355285645\r\n",
            "9.852567253127141,265,1920,Talk-Show,10.443947076797485,6.606718301773071,9.927922487258911,5.465392589569092,10.234130859375,4.71635103225708\r\n",
            "8.951017609559646,787,1811,Game-Show,11.718353748321533,5.692245960235596,10.50520396232605,5.206521987915039,10.171860456466675,4.846303701400757\r\n",
            "0.056800280066003905,3453,1921,News,4.138132095336914,3.686460256576538,4.674758434295654,3.704981565475464,3.394226551055908,3.4259822368621826\r\n",
            "4.670844337479028,1748,1866,Adult,10.885274171829224,5.599040269851685,10.391206979751587,4.868912220001221,10.308041334152222,6.1952879428863525\r\n",
            "4.824583989645542,1284,1914,Crime,1.057971477508545,1.041285514831543,0.7649247646331787,1.096996545791626,1.3673110008239746,1.0550472736358643\r\n",
            "3.618170997923862,4516,1991,Music,1.1886165142059326,1.9310412406921387,1.451584815979004,1.0011003017425537,0.6994245052337646,0.7783474922180176\r\n",
            "4.098221389824922,947,1829,Comedy,0.8634710311889648,0.793527364730835,0.6796691417694092,0.7196877002716064,0.6700072288513184,0.6612317562103271\r\n"
          ]
        }
      ],
      "source": [
        "import csv\n",
        "import sys\n",
        "\n",
        "def print_array_of_dicts_as_csv(array_of_dicts):\n",
        "    if len(array_of_dicts) == 0:\n",
        "        return\n",
        "\n",
        "    fieldnames = array_of_dicts[0].keys()\n",
        "    writer = csv.DictWriter(sys.stdout, fieldnames=fieldnames)\n",
        "    writer.writeheader()\n",
        "    writer.writerows(array_of_dicts)\n",
        "\n",
        "print_array_of_dicts_as_csv(attempts)"
      ]
    }
  ],
  "metadata": {
    "colab": {
      "provenance": []
    },
    "kernelspec": {
      "display_name": "Python 3",
      "name": "python3"
    },
    "language_info": {
      "name": "python"
    }
  },
  "nbformat": 4,
  "nbformat_minor": 0
}
